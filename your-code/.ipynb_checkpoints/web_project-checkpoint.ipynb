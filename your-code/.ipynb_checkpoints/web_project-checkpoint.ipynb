{
 "cells": [
  {
   "cell_type": "markdown",
   "metadata": {},
   "source": [
    "# Proyecto web (Semana 3)"
   ]
  },
  {
   "cell_type": "markdown",
   "metadata": {},
   "source": [
    "Para este proyecto nos fue solicitado que realizaramos dos tareas:\n",
    "1. Hacer uso de un API para generar un dataset.\n",
    "2. Aplicar web scraping para generar un dataset.\n",
    "\n",
    "Estas dos tareas deben resultar en los siguientes archivos:\n",
    "1. Un archivo \".csv\" en el cual tengamos el dataset generado via API.\n",
    "2. Un archivo \".csv\" en el cual tengamos el dataset generado via API, aplicando labores de limpieza y manipulación.\n",
    "3. Un archivo \".csv\" en el cual tengamos el dataset generado via web scraping.\n",
    "4. Un archivo \".csv\" en el cual tengamos el dataset generado via web scraping, aplicando labores de limpieza y manipulación."
   ]
  },
  {
   "cell_type": "markdown",
   "metadata": {},
   "source": [
    "# Ideas para el proyecto."
   ]
  },
  {
   "cell_type": "markdown",
   "metadata": {},
   "source": [
    "Considerando que los datos son la materia prima para proyectos de analitica, decidí utilizar el API de un gran sitio (Kaggle) que contiene datasets sobre diferentes temas, la gran mayoria de manera pública.\n",
    "\n",
    "En el caso del web scraping decidí tomar una página sobre inversión en diferentes mercados, derivados y activos (Investing.com), tema que es de mi interes y por el momento el sitio no posee un API."
   ]
  },
  {
   "cell_type": "markdown",
   "metadata": {},
   "source": [
    "# API "
   ]
  },
  {
   "cell_type": "markdown",
   "metadata": {},
   "source": [
    "Lo primero que realice para el uso del API, fue instalar un wrapper que ofrece el API de Kaggle."
   ]
  },
  {
   "cell_type": "code",
   "execution_count": null,
   "metadata": {
    "scrolled": true
   },
   "outputs": [],
   "source": [
    "#import sys\n",
    "#!{sys.executable} -m pip install mdutils kaggle "
   ]
  },
  {
   "cell_type": "markdown",
   "metadata": {},
   "source": [
    "Continue con una celda para realizar todos los imports que se vayan requiriendo a lo largo del proyecto."
   ]
  },
  {
   "cell_type": "code",
   "execution_count": null,
   "metadata": {
    "scrolled": true
   },
   "outputs": [],
   "source": [
    "import requests\n",
    "from kaggle.api.kaggle_api_extended import KaggleApi\n",
    "import time\n",
    "import pandas as pd\n",
    "import json\n",
    "import operator\n",
    "from bs4 import BeautifulSoup\n",
    "import re"
   ]
  },
  {
   "cell_type": "markdown",
   "metadata": {},
   "source": [
    "El wrapper del API de Kaggle realiza la autentificación con los siguientes comandos."
   ]
  },
  {
   "cell_type": "code",
   "execution_count": null,
   "metadata": {
    "scrolled": true
   },
   "outputs": [],
   "source": [
    "api = KaggleApi({\"username\":\"\",\"key\":\"\"})\n",
    "api.authenticate()"
   ]
  },
  {
   "cell_type": "markdown",
   "metadata": {},
   "source": [
    "En este momento estamos autorizados para utilizar el API a partir de todos los métodos que provee el wrapper. En teoría el API de kaggle es más fácil de usar desde un shell, y su documentación (https://github.com/Kaggle/kaggle-api) esta redactada para su uso en shell. Pero es completamente factible traducir todos sus comandos al metodo incluido en el wrapper. Algunos de los comandos disponibles se enlistan a continuación:"
   ]
  },
  {
   "cell_type": "markdown",
   "metadata": {},
   "source": [
    "| Sección:                       | Competitions                                                                                                                                                                                                                                                                                                                                                                                                                                                                                                                                                 |                                                                                                                                                                                  |\n",
    "|--------------------------------|--------------------------------------------------------------------------------------------------------------------------------------------------------------------------------------------------------------------------------------------------------------------------------------------------------------------------------------------------------------------------------------------------------------------------------------------------------------------------------------------------------------------------------------------------------------|----------------------------------------------------------------------------------------------------------------------------------------------------------------------------------|\n",
    "| Comando                        | Parametros                                                                                                                                                                                                                                                                                                                                                                                                                                                                                                                                                   | Descripción                                                                                                                                                                      |\n",
    "| dataset_list()                 | sort_by: how to sort the result, see valid_dataset_sort_bys for options size: the size of the dataset, see valid_dataset_sizes for string options file_type: the format, see valid_dataset_file_types for string options license_name: string descriptor for license, see valid_dataset_license_names tag_ids: tag identifiers to filter the search search: a search term to use (default is empty string) user: username to filter the search to mine: boolean if True, group is changed to \"my\" to return personal page: the page to return (default is 1) | Comando para realizar búsqueda de datasets, los parámetros extra permiten ordenarlos, filtrar por tags, página que obtener, buscar datasets por usuario y otras caracteristicas. |\n",
    "| dataset_view()                 | :param str owner_slug: Dataset owner (required) :param str dataset_slug: Dataset name (required)                                                                                                                                                                                                                                                                                                                                                                                                                                                             | Ver metadatos de un dataset.                                                                                                                                                     |\n",
    "| dataset_metadata(dataset,path) | dataset: name dataset path: its obtain with the name of the dataset.                                                                                                                                                                                                                                                                                                                                                                                                                                                                                         | Ver metadatos de un dataset.                                                                                                                                                     |\n",
    "| dataset_list_files(dataset)    | dataset: the string identified of the dataset should be in format [owner]/[dataset-name]                                                                                                                                                                                                                                                                                                                                                                                                                                                                     | Lista los archivos presentes en el dataset.                                                                                                                                      |\n",
    "| dataset_download_file()        | dataset: the string identified of the dataset should be in format [owner]/[dataset-name] file_name: the dataset configuration file path: if defined, download to this location force: force the download if the file already exists (default False) quiet: suppress verbose output (default is True)                                                                                                                                                                                                                                                         | Descarga un archivo presente  en un dataset.                                                                                                                                     |\n",
    "| dataset_download_files()       | dataset: the string identified of the dataset should be in format [owner]/[dataset-name] path: the path to download the dataset to force: force the download if the file already exists (default False) quiet: suppress verbose output (default is True) unzip: if True, unzip files upon download (default is False)                                                                                                                                                                                                                                        | Descacarga todos los archivos  de un dataset.                                                                                                                                    |\n",
    "| download_file()                | response: the response to download outfile: the output file to download to quiet: suppress verbose output (default is True) chunk_size: the size of the chunk to stream                                                                                                                                                                                                                                                                                                                                                                                      | También descarga un archivo.                                                                                                                                                     |"
   ]
  },
  {
   "cell_type": "markdown",
   "metadata": {},
   "source": [
    "## Extraer data."
   ]
  },
  {
   "cell_type": "markdown",
   "metadata": {},
   "source": [
    "Para mi proyecto me interesa obtener datasets que tengan relación palabras clave que yo seleccione, para esto construyo una lista con dichas palabras, en ella preferentemente hay que agregar palabras en inglés."
   ]
  },
  {
   "cell_type": "code",
   "execution_count": null,
   "metadata": {
    "scrolled": true
   },
   "outputs": [],
   "source": [
    "intereses = ['currencies','currency','forex','finance','exchanges','tweets','news','fake news']"
   ]
  },
  {
   "cell_type": "markdown",
   "metadata": {},
   "source": [
    "Continue realizando una búsqueda en la API con cada interes, decidí agregar una pausa entre cada solicitud a la API de un 1.5s."
   ]
  },
  {
   "cell_type": "code",
   "execution_count": null,
   "metadata": {
    "scrolled": true
   },
   "outputs": [],
   "source": [
    "datasets_category = pd.DataFrame()\n",
    "result_busqueda_list = []\n",
    "categoria_list = []\n",
    "\n",
    "for interes in intereses:\n",
    "    time.sleep(1.5)\n",
    "    response = api.dataset_list(search=interes)\n",
    "    if len(response) != 0:\n",
    "        result_busqueda_list.extend(response)\n",
    "        categoria_list.extend(((interes+',')*len(response)).split(',')[:-1])\n",
    "    \n",
    "datasets_category['Dataset'] = result_busqueda_list\n",
    "datasets_category['Category'] = categoria_list"
   ]
  },
  {
   "cell_type": "code",
   "execution_count": null,
   "metadata": {
    "scrolled": true
   },
   "outputs": [],
   "source": [
    "print('Se obtuvieron %i datasets en la busqueda sobre los interes seleccionados.' % len(datasets_category))"
   ]
  },
  {
   "cell_type": "markdown",
   "metadata": {},
   "source": [
    "Revisamos si existen repeticiones en los resultados de busqueda."
   ]
  },
  {
   "cell_type": "code",
   "execution_count": null,
   "metadata": {},
   "outputs": [],
   "source": [
    "if len(set(datasets_category['Dataset'])) != len(datasets_category):\n",
    "    print('Existen datasets repetidos')\n",
    "else:\n",
    "    print('No hay datasets repetidos')"
   ]
  },
  {
   "cell_type": "markdown",
   "metadata": {},
   "source": [
    "Para cada uno de los datasets encontrados en la búsqueda descargaremos sus metadatos."
   ]
  },
  {
   "cell_type": "code",
   "execution_count": null,
   "metadata": {},
   "outputs": [],
   "source": [
    "metadata_datasets_list = []\n",
    "for dataset in datasets_category['Dataset']:\n",
    "    time.sleep(1)\n",
    "    owner_name = str(dataset).split('/')[0]\n",
    "    name = str(dataset).split('/')[1]\n",
    "    metadata_datasets_list.append(api.datasets_view(owner_name,name))"
   ]
  },
  {
   "cell_type": "code",
   "execution_count": null,
   "metadata": {},
   "outputs": [],
   "source": [
    "metadata_keys = ['id', 'ref', 'subtitle', 'tags', 'creatorName', 'creatorUrl',\n",
    "                 'totalBytes', 'url', 'lastUpdated', 'downloadCount', 'isPrivate',\n",
    "                 'isReviewed', 'isFeatured', 'licenseName', 'description', 'ownerName',\n",
    "                 'ownerRef', 'kernelCount', 'title', 'topicCount', 'viewCount', 'voteCount',\n",
    "                 'currentVersionNumber', 'files', 'versions', 'usabilityRating']"
   ]
  },
  {
   "cell_type": "code",
   "execution_count": null,
   "metadata": {},
   "outputs": [],
   "source": [
    "metadata_df = pd.DataFrame(metadata_datasets_list)\n",
    "metadata_df"
   ]
  },
  {
   "cell_type": "markdown",
   "metadata": {},
   "source": [
    "## Selección de columnas"
   ]
  },
  {
   "cell_type": "markdown",
   "metadata": {},
   "source": [
    "Seleccioné las columnas que considero útiles."
   ]
  },
  {
   "cell_type": "code",
   "execution_count": null,
   "metadata": {},
   "outputs": [],
   "source": [
    "useful_key_metadata = ['title','subtitle','description','lastUpdated','ref','totalBytes','url','tags','downloadCount','licenseName',\n",
    "                       'kernelCount','versions','usabilityRating'] "
   ]
  },
  {
   "cell_type": "code",
   "execution_count": null,
   "metadata": {},
   "outputs": [],
   "source": [
    "dataset = metadata_df[useful_key_metadata]\n",
    "dataset"
   ]
  },
  {
   "cell_type": "markdown",
   "metadata": {},
   "source": [
    "## Identificando valores nulos."
   ]
  },
  {
   "cell_type": "markdown",
   "metadata": {},
   "source": [
    "Buscamos datos que no sean un valor."
   ]
  },
  {
   "cell_type": "code",
   "execution_count": null,
   "metadata": {},
   "outputs": [],
   "source": [
    "missing_values = dataset.isna().sum()\n",
    "missing_values"
   ]
  },
  {
   "cell_type": "markdown",
   "metadata": {},
   "source": [
    "No se encontraron valores nulos."
   ]
  },
  {
   "cell_type": "markdown",
   "metadata": {},
   "source": [
    "## Manipulación del dataset"
   ]
  },
  {
   "cell_type": "markdown",
   "metadata": {},
   "source": [
    "Agregamos la columna de categoría de búsqueda con la que iniciamos."
   ]
  },
  {
   "cell_type": "code",
   "execution_count": null,
   "metadata": {
    "scrolled": true
   },
   "outputs": [],
   "source": [
    "dataset['category'] = categoria_list"
   ]
  },
  {
   "cell_type": "markdown",
   "metadata": {},
   "source": [
    "### Columna total bytes."
   ]
  },
  {
   "cell_type": "markdown",
   "metadata": {},
   "source": [
    "Modificamos el valor base de la columna de \"Bytes\" a \"Mega bytes\" "
   ]
  },
  {
   "cell_type": "code",
   "execution_count": null,
   "metadata": {},
   "outputs": [],
   "source": [
    "byte_to_gb = lambda x: x/1000000\n",
    "dataset[\"totalBytes\"] = dataset[\"totalBytes\"].apply(byte_to_gb)\n",
    "dataset = dataset.rename(columns = {\"totalBytes\":\"totalGigaBytes\"})\n",
    "dataset.head(3)"
   ]
  },
  {
   "cell_type": "markdown",
   "metadata": {},
   "source": [
    "## Columna Tags."
   ]
  },
  {
   "cell_type": "markdown",
   "metadata": {},
   "source": [
    "En la columna \"tags\" encontramos referencias a los grupos en los cuales se encuentra clasificado el dataset.\n",
    "Esta columna varia de dataset a dataset. Sin embargo nos permite tener aún más grupos sobre los cuales realizar\n",
    "busquedas con resultados que puedan ser de interes al usuario."
   ]
  },
  {
   "cell_type": "markdown",
   "metadata": {},
   "source": [
    "Para esta columna realizaremos una extracción de todas las etiquetas y obtenemos la frecuencia de un set para evitar repeticiones,además de que presentaremos las tres más frecuentes al usuario de manera que este pueda usarlas en una búsqueda de intereses aún mayor."
   ]
  },
  {
   "cell_type": "code",
   "execution_count": null,
   "metadata": {},
   "outputs": [],
   "source": [
    "suggest_interest = [element['ref'] for tag in dataset['tags'] for element in tag]\n",
    "set_suggest = set(suggest_interest)\n",
    "dict_freq_suggest = {k:suggest_interest.count(k) for k in set_suggest}\n",
    "sorted_tups = sorted(dict_freq_suggest.items(), key=operator.itemgetter(1))\n",
    "print(sorted_tups[-10:])"
   ]
  },
  {
   "cell_type": "markdown",
   "metadata": {},
   "source": [
    "Estas sugerencias se pueden interpretar como los hashtag que contiene el dataset, por tanto hay que ser cuidadosos al seleccionar nuevos intereses de la lista."
   ]
  },
  {
   "cell_type": "markdown",
   "metadata": {},
   "source": [
    "Así también tenemos valores vacios para la columna etiquetas, así que sustituiremos la columna tags\n",
    "por \"number of tags\""
   ]
  },
  {
   "cell_type": "code",
   "execution_count": null,
   "metadata": {},
   "outputs": [],
   "source": [
    "num_tags = lambda x: len(x)\n",
    "dataset[\"tags\"] = dataset[\"tags\"].apply(num_tags)\n",
    "dataset = dataset.rename(columns = {\"tags\":\"numberOfTags\"})\n",
    "dataset.head(3)"
   ]
  },
  {
   "cell_type": "markdown",
   "metadata": {},
   "source": [
    "## Columna Versions"
   ]
  },
  {
   "cell_type": "markdown",
   "metadata": {},
   "source": [
    "La columna versions contiene al menos una versión para el dataset, sin embargo en caso de que tenga más solo sería\n",
    "de nuestro interes la última versión y su fecha."
   ]
  },
  {
   "cell_type": "code",
   "execution_count": null,
   "metadata": {},
   "outputs": [],
   "source": [
    "dataset[\"versions\"][0][0]"
   ]
  },
  {
   "cell_type": "code",
   "execution_count": null,
   "metadata": {},
   "outputs": [],
   "source": [
    "last_version = lambda x: str(x[0]['status']) + ' version: ' +  str(x[0]['versionNumber']) + ', ' + str(x[0]['creationDate'])\n",
    "dataset[\"versions\"] = dataset[\"versions\"].apply(last_version)\n",
    "dataset = dataset.rename(columns = {\"versions\":\"lastVersion\"})\n",
    "dataset.head(3)"
   ]
  },
  {
   "cell_type": "markdown",
   "metadata": {},
   "source": [
    "## Análisis."
   ]
  },
  {
   "cell_type": "markdown",
   "metadata": {},
   "source": [
    "Finalmente por ahora, podemos utilizar cada una de las columnas disponibles para realizar algunos filtros con los cuales obtener información interesante."
   ]
  },
  {
   "cell_type": "markdown",
   "metadata": {},
   "source": [
    "### Mejor score de utilidad."
   ]
  },
  {
   "cell_type": "code",
   "execution_count": null,
   "metadata": {},
   "outputs": [],
   "source": [
    "dataset.sort_values(['usabilityRating'],ascending=False)"
   ]
  },
  {
   "cell_type": "markdown",
   "metadata": {},
   "source": [
    "### Mayor tamaño"
   ]
  },
  {
   "cell_type": "code",
   "execution_count": null,
   "metadata": {},
   "outputs": [],
   "source": [
    "dataset.sort_values(['totalGigaBytes'],ascending=False)"
   ]
  },
  {
   "cell_type": "markdown",
   "metadata": {},
   "source": [
    "### El más utilizado."
   ]
  },
  {
   "cell_type": "code",
   "execution_count": null,
   "metadata": {},
   "outputs": [],
   "source": [
    "dataset.sort_values(['kernelCount'],ascending=False)"
   ]
  },
  {
   "cell_type": "markdown",
   "metadata": {},
   "source": [
    "# Web scraping."
   ]
  },
  {
   "cell_type": "markdown",
   "metadata": {},
   "source": [
    "Algo que siempre me ha gustado son los modelos 3D, estos pueden ser útiles para empresas de videojuegos, para la industria de la animación y algunos otros sectores.\n",
    "\n",
    "La primera página que encontre con cientos de modelos de pago y gratuitos para descargar fue: https://www.turbosquid.com/\n",
    "\n",
    "Mi objetivo será hacer web scraping a su sitio y obtener información útil para cada uno de los modelos 3D diponibles."
   ]
  },
  {
   "cell_type": "markdown",
   "metadata": {},
   "source": [
    "Generé la clase que utilizaré para realizar el scraping tomando como base el trabajo en el lab de web scraping avanzado."
   ]
  },
  {
   "cell_type": "code",
   "execution_count": null,
   "metadata": {},
   "outputs": [],
   "source": [
    "class WebSpider:\n",
    "    \"\"\"\n",
    "    This is the constructor class to which you can pass a bunch of parameters. \n",
    "    These parameters are stored to the class instance variables so that the\n",
    "    class functions can access them later.\n",
    "    \n",
    "    url_pattern: the regex pattern of the web urls to scape\n",
    "    pages_to_scrape: how many pages to scrape\n",
    "    sleep_interval: the time interval in seconds to delay between requests. If <0, requests will not be delayed.\n",
    "    content_parser: a function reference that will extract the intended info from the scraped content.\n",
    "    \"\"\"\n",
    "    def __init__(self, url_pattern, pages_to_scrape=10, sleep_interval=-1, content_parser=None):\n",
    "        self.url_pattern = url_pattern\n",
    "        self.pages_to_scrape = pages_to_scrape\n",
    "        self.sleep_interval = sleep_interval\n",
    "        self.content_parser = content_parser\n",
    "        self.output = []\n",
    "    \"\"\"\n",
    "    Scrape the content of a single url.\n",
    "    \"\"\"\n",
    "    def scrape_url(self, url):\n",
    "        response = requests.get(url)\n",
    "        if str(response) != '<Response [200]>':\n",
    "            print('Error en la respuesta del servidor',response)\n",
    "        elif str(response) == '<Response [408]>':\n",
    "            print('Error en el limite de tiempo de respuesta del servidor')\n",
    "        elif str(response) == '<Response [429]>':\n",
    "            print('Error demasiadas peticiones')\n",
    "        # I didn't find the SSL error but I add a 404 error catching.\n",
    "        elif str(response) == '<Response [404]>':\n",
    "            print('No se encontro el contenido')\n",
    "        else:\n",
    "            result = self.content_parser(response.content)\n",
    "            self.output_results(result)\n",
    "    \n",
    "    \"\"\"\n",
    "    Export the scraped content. Right now it simply print out the results.\n",
    "    But in the future you can export the results into a text file or database.\n",
    "    \"\"\"\n",
    "    def output_results(self, r):\n",
    "        self.output.append(r)\n",
    "        print('Se agregaron %i url a la lista' % (len(r)))\n",
    "    \"\"\"\n",
    "    After the class is instantiated, call this function to start the scraping jobs.\n",
    "    This function uses a FOR loop to call `scrape_url()` for each url to scrape.\n",
    "    \"\"\"\n",
    "    def kickstart(self):\n",
    "        for i in range(1, self.pages_to_scrape+1):\n",
    "            if self.sleep_interval > 0:\n",
    "                time.sleep(self.sleep_interval)\n",
    "                self.scrape_url(self.url_pattern % i)\n",
    "            else:\n",
    "                self.scrape_url(self.url_pattern % i)\n",
    "        return self.output"
   ]
  },
  {
   "cell_type": "markdown",
   "metadata": {},
   "source": [
    "La estructura del sítio resulto ser no tan mala, sin duda una más que utiliza los div de manera impulsiva pero encontramos el url del modelo en los \"div\" de clase \"thumbnail thumbnail-md\".\n",
    "\n",
    "La estructura para el paginado es la siguiente:\n",
    "\n",
    "\"https://www.turbosquid.com/Search/3D-Models?page_num=2&sort_column=a5&sort_order=asc\"\n",
    "\n",
    "Ya que he utilizado sus herramientas de filtrado para ordenar de menor a mayor costo, y tener los modelos gratuitos al inicio.\n"
   ]
  },
  {
   "cell_type": "code",
   "execution_count": null,
   "metadata": {},
   "outputs": [],
   "source": [
    "# Hacemos una prueba para la página 0\n",
    "response = requests.get('https://www.turbosquid.com/Search/3D-Models?sort_column=a5&sort_order=asc')\n",
    "print(response)\n",
    "content = response.content\n",
    "soup_prueba = BeautifulSoup(content,'html')\n",
    "divs_modelos = soup_prueba.find_all('div',{'class':'thumbnail thumbnail-md'})\n",
    "divs_modelos"
   ]
  },
  {
   "cell_type": "code",
   "execution_count": null,
   "metadata": {},
   "outputs": [],
   "source": [
    "# Para obtener el url del modelo necesitamos llegar a:\n",
    "divs_modelos[0].select('a')[0]['href']"
   ]
  },
  {
   "cell_type": "markdown",
   "metadata": {},
   "source": [
    "Aplicando esto a toda la página de prueba:"
   ]
  },
  {
   "cell_type": "code",
   "execution_count": null,
   "metadata": {
    "scrolled": true
   },
   "outputs": [],
   "source": [
    "urls_modelos = [div.select('a')[0]['href'] for div in divs_modelos]\n",
    "urls_modelos"
   ]
  },
  {
   "cell_type": "code",
   "execution_count": null,
   "metadata": {},
   "outputs": [],
   "source": [
    "print('Tenemos %i modelos por página' % len(urls_modelos))"
   ]
  },
  {
   "cell_type": "code",
   "execution_count": null,
   "metadata": {},
   "outputs": [],
   "source": [
    "print('Dentro de la página hay %i modelos' % (100*7668) )"
   ]
  },
  {
   "cell_type": "markdown",
   "metadata": {},
   "source": [
    "Por lo tanto la función para el scraping de las url de los modelos queda de la siguiente forma:"
   ]
  },
  {
   "cell_type": "code",
   "execution_count": null,
   "metadata": {},
   "outputs": [],
   "source": [
    "def web_parser(content):\n",
    "    soup_prueba = BeautifulSoup(content,'html')\n",
    "    divs_modelos = soup_prueba.find_all('div',{'class':'thumbnail thumbnail-md'})\n",
    "    urls_modelos = [div.select('a')[0]['href'] for div in divs_modelos]\n",
    "    return urls_modelos"
   ]
  },
  {
   "cell_type": "markdown",
   "metadata": {},
   "source": [
    "Un siguiente paso es obtener información sobre cada uno de los modelos entrando a la url obtenida y realizar scraping de nuevo, en este caso nos interesa obtener la siguiente información:\n",
    "\n",
    "1. Nombre del modelo, div class productTitle\n",
    "2. Dueño del modelo, div class productArtist\n",
    "3. Precio del modelo, div class priceSection price\n",
    "4. Licencia de uso, div class LicenseUses\n",
    "5. Fecha de publicación\n",
    "6. Formatos incluidos, tabla clase exchange\n",
    "7. Categorias agregadas al modelo, accediendo al div class categorySection\n",
    "8. Tags agragados al modelo, accediendo al div class tagSection\n",
    "9. Descripción del modelo, accediendo al div class descriptionSection\n"
   ]
  },
  {
   "cell_type": "code",
   "execution_count": null,
   "metadata": {},
   "outputs": [],
   "source": [
    "# 3D models\n",
    "# https://www.turbosquid.com/Search/3D-Models?sort_column=a5&sort_order=asc\n",
    "URL_PATTERN = 'https://www.turbosquid.com/Search/3D-Models?page_num=%i&sort_column=a5&sort_order=asc' # regex pattern for the urls to scrape\n",
    "PAGES_TO_SCRAPE = 10 # how many webpages to scrapge\n",
    "SLEEP_INTERVAL = 1\n",
    "\n",
    "# Instantiate the IronhackSpider class\n",
    "project_spider = WebSpider(URL_PATTERN,PAGES_TO_SCRAPE,SLEEP_INTERVAL, content_parser = web_parser)\n",
    "\n",
    "# Start scraping jobs\n",
    "urls_modelos_pages = project_spider.kickstart()"
   ]
  },
  {
   "cell_type": "markdown",
   "metadata": {},
   "source": [
    "Por el momento tenemos un problema en la lista de urls, ya que genera una lista de listas por cada página, por tanto procesaremos un poco la lista."
   ]
  },
  {
   "cell_type": "code",
   "execution_count": null,
   "metadata": {},
   "outputs": [],
   "source": [
    "urls_modelos = [url for lista in urls_modelos_pages for url in lista]\n",
    "len(urls_modelos)"
   ]
  },
  {
   "cell_type": "markdown",
   "metadata": {},
   "source": [
    "Definimos una nueva clase de Spider."
   ]
  },
  {
   "cell_type": "code",
   "execution_count": null,
   "metadata": {},
   "outputs": [],
   "source": [
    "class ModelsSpider:\n",
    "    \"\"\"\n",
    "    This is the constructor class to which you can pass a bunch of parameters. \n",
    "    These parameters are stored to the class instance variables so that the\n",
    "    class functions can access them later.\n",
    "    \n",
    "    url_pattern: the regex pattern of the web urls to scape\n",
    "    pages_to_scrape: how many pages to scrape\n",
    "    sleep_interval: the time interval in seconds to delay between requests. If <0, requests will not be delayed.\n",
    "    content_parser: a function reference that will extract the intended info from the scraped content.\n",
    "    \"\"\"\n",
    "    def __init__(self, urls_pages, sleep_interval=-1, content_parser=None):\n",
    "        self.urls_pages = urls_pages\n",
    "        self.sleep_interval = sleep_interval\n",
    "        self.content_parser = content_parser\n",
    "        self.output = []\n",
    "    \"\"\"\n",
    "    Scrape the content of a single url.\n",
    "    \"\"\"\n",
    "    def scrape_url(self, url):\n",
    "        response = requests.get(url)\n",
    "        if str(response) != '<Response [200]>':\n",
    "            print('Error en la respuesta del servidor',response)\n",
    "        elif str(response) == '<Response [408]>':\n",
    "            print('Error en el limite de tiempo de respuesta del servidor')\n",
    "        elif str(response) == '<Response [429]>':\n",
    "            print('Error demasiadas peticiones')\n",
    "        # I didn't find the SSL error but I add a 404 error catching.\n",
    "        elif str(response) == '<Response [404]>':\n",
    "            print('No se encontro el contenido')\n",
    "        else:\n",
    "            result = self.content_parser(response.content)\n",
    "            self.output_results(result)\n",
    "    \n",
    "    \"\"\"\n",
    "    Export the scraped content. Right now it simply print out the results.\n",
    "    But in the future you can export the results into a text file or database.\n",
    "    \"\"\"\n",
    "    def output_results(self, r):\n",
    "        self.output.append(r)\n",
    "    \"\"\"\n",
    "    After the class is instantiated, call this function to start the scraping jobs.\n",
    "    This function uses a FOR loop to call `scrape_url()` for each url to scrape.\n",
    "    \"\"\"\n",
    "    def kickstart(self):\n",
    "        for i in self.urls_pages:\n",
    "            if self.sleep_interval > 0:\n",
    "                time.sleep(self.sleep_interval)\n",
    "                self.scrape_url(i)\n",
    "            else:\n",
    "                self.scrape_url(i)\n",
    "        return self.output"
   ]
  },
  {
   "cell_type": "markdown",
   "metadata": {},
   "source": [
    "Definimos un nuevo parser para extraer los datos de cada página."
   ]
  },
  {
   "cell_type": "code",
   "execution_count": null,
   "metadata": {},
   "outputs": [],
   "source": [
    "def model_parser(content):\n",
    "    check_content = lambda x: True if x != [] else False\n",
    "    soup_prueba = BeautifulSoup(content,'html')\n",
    "    try: \n",
    "        check_content(soup_prueba.find_all('div',{'class':'productTitle'})[0].select('h1')[0]['content'])\n",
    "        nombre = soup_prueba.find_all('div',{'class':'productTitle'})[0].select('h1')[0]['content']\n",
    "    except:\n",
    "        nombre = ''\n",
    "    try: \n",
    "        check_content(soup_prueba.find_all('div',{'class':'productArtist'})[0].text[3:])\n",
    "        dueño = soup_prueba.find_all('div',{'class':'productArtist'})[0].text[3:]\n",
    "    except:\n",
    "        dueño = ''\n",
    "    try: \n",
    "        check_content(soup_prueba.find_all('div',{'class':'priceSection price'})[0].text)\n",
    "        precio = soup_prueba.find_all('div',{'class':'priceSection price'})[0].text\n",
    "    except:\n",
    "        precio = ''\n",
    "    try: \n",
    "        check_content(soup_prueba.find_all('div',{'class':'LicenseUses'})[0].text)\n",
    "        licencia = soup_prueba.find_all('div',{'class':'LicenseUses'})[0].text\n",
    "    except:\n",
    "        licencia = ''\n",
    "    try: \n",
    "        check_content(soup_prueba.find_all('table',{'class':'SpecificationTable'})[0].select('time')[0]['datetime'])\n",
    "        fecha_pub = soup_prueba.find_all('table',{'class':'SpecificationTable'})[0].select('time')[0]['datetime']\n",
    "    except:\n",
    "        fecha_pub = ''\n",
    "    try: \n",
    "        check_content(soup_prueba.find_all('table',{'class':'exchange'})[0].text)\n",
    "        formatos = soup_prueba.find_all('table',{'class':'exchange'})[0].text\n",
    "    except:\n",
    "        formatos = ''\n",
    "    try: \n",
    "        check_content(soup_prueba.find_all('div',{'class':'FeatureGraphCategories'})[0].select('a'))\n",
    "        categorias = soup_prueba.find_all('div',{'class':'FeatureGraphCategories'})[0].select('a')\n",
    "    except:\n",
    "        categorias = ''\n",
    "    try: \n",
    "        check_content(soup_prueba.find_all('div',{'class':'tagSection'})[0].select('a'))\n",
    "        tags = soup_prueba.find_all('div',{'class':'tagSection'})[0].select('a')\n",
    "    except:\n",
    "        tags = ''\n",
    "    try: \n",
    "        check_content(soup_prueba.find_all('div',{'class':'descriptionSection'})[0].select('.descriptionContentParagraph')[0].text)\n",
    "        descripcion = soup_prueba.find_all('div',{'class':'descriptionSection'})[0].select('.descriptionContentParagraph')[0].text\n",
    "    except:\n",
    "        descripcion = ''\n",
    "    row_dataset = [nombre,dueño,precio,licencia,fecha_pub,formatos,categorias,tags,descripcion]\n",
    "    return row_dataset"
   ]
  },
  {
   "cell_type": "code",
   "execution_count": null,
   "metadata": {},
   "outputs": [],
   "source": [
    "SLEEP_INTERVAL = 0.5\n",
    "\n",
    "# Instantiate the IronhackSpider class\n",
    "project_spider_models = ModelsSpider(urls_modelos,SLEEP_INTERVAL, content_parser = model_parser)\n",
    "\n",
    "# Start scraping jobs\n",
    "rows_dataset = project_spider_models.kickstart()"
   ]
  },
  {
   "cell_type": "code",
   "execution_count": null,
   "metadata": {},
   "outputs": [],
   "source": [
    "dataset_scraping = pd.DataFrame(rows_dataset)\n",
    "dataset_scraping.columns = [['name_model','owner','price','license','published_date','formats_available','categories','tags','description']]\n",
    "dataset_scraping"
   ]
  },
  {
   "cell_type": "markdown",
   "metadata": {},
   "source": [
    "Por el momento he realizado el scraping a 10 páginas del sitio, con cien modelos, lo que representa 1000 requests. He mantenido este número por la posibilidad de que bloquen la dirección IP, sin embargo puede modificarse el parametro del primer Spider y tratar de obtener los url de todos los modelos disponibles."
   ]
  },
  {
   "cell_type": "code",
   "execution_count": null,
   "metadata": {},
   "outputs": [],
   "source": [
    "# Guardamos en archivo csv los resultados obtenidos.\n",
    "dataset_scraping.to_csv('dataset_scraping.csv',index=False)"
   ]
  },
  {
   "cell_type": "code",
   "execution_count": 12,
   "metadata": {},
   "outputs": [
    {
     "data": {
      "text/html": [
       "<div>\n",
       "<style scoped>\n",
       "    .dataframe tbody tr th:only-of-type {\n",
       "        vertical-align: middle;\n",
       "    }\n",
       "\n",
       "    .dataframe tbody tr th {\n",
       "        vertical-align: top;\n",
       "    }\n",
       "\n",
       "    .dataframe thead th {\n",
       "        text-align: right;\n",
       "    }\n",
       "</style>\n",
       "<table border=\"1\" class=\"dataframe\">\n",
       "  <thead>\n",
       "    <tr style=\"text-align: right;\">\n",
       "      <th></th>\n",
       "      <th>Unnamed: 0</th>\n",
       "      <th>name_model</th>\n",
       "      <th>owner</th>\n",
       "      <th>price</th>\n",
       "      <th>license</th>\n",
       "      <th>published_date</th>\n",
       "      <th>formats_available</th>\n",
       "      <th>categories</th>\n",
       "      <th>tags</th>\n",
       "      <th>description</th>\n",
       "    </tr>\n",
       "  </thead>\n",
       "  <tbody>\n",
       "    <tr>\n",
       "      <th>0</th>\n",
       "      <td>0</td>\n",
       "      <td>Prototyping Polygons 3D model</td>\n",
       "      <td>HyperChromatica</td>\n",
       "      <td>\\nFree\\n</td>\n",
       "      <td>- All Extended Uses</td>\n",
       "      <td>2019-07-20</td>\n",
       "      <td>\\n\\n\\nFBX 1.0\\n\\n</td>\n",
       "      <td>[&lt;a href=\"https://www.turbosquid.com/Search/3d...</td>\n",
       "      <td>[&lt;a class=\"FPKeywords\" href=\"https://www.turbo...</td>\n",
       "      <td>I was starting work on a new game in unity and...</td>\n",
       "    </tr>\n",
       "    <tr>\n",
       "      <th>1</th>\n",
       "      <td>1</td>\n",
       "      <td>3D counter and bar stools</td>\n",
       "      <td>ESalem</td>\n",
       "      <td>\\nFree\\n</td>\n",
       "      <td>- All Extended Uses</td>\n",
       "      <td>2019-07-20</td>\n",
       "      <td>\\n\\n\\n3D Studio \\n\\n\\n\\n\\nFBX \\n\\n\\n\\n\\nOBJ \\n\\n</td>\n",
       "      <td>[&lt;a href=\"https://www.turbosquid.com/Search/3d...</td>\n",
       "      <td>[&lt;a class=\"FPKeywords\" href=\"https://www.turbo...</td>\n",
       "      <td>counter and bar stools Are the same specificat...</td>\n",
       "    </tr>\n",
       "    <tr>\n",
       "      <th>2</th>\n",
       "      <td>2</td>\n",
       "      <td>3D model Cabin Shop</td>\n",
       "      <td>MarkoffIN</td>\n",
       "      <td>\\nFree\\n</td>\n",
       "      <td>- All Extended Uses</td>\n",
       "      <td>2019-07-20</td>\n",
       "      <td>\\n\\n\\nFBX \\n\\n</td>\n",
       "      <td>[&lt;a href=\"https://www.turbosquid.com/Search/3d...</td>\n",
       "      <td>[&lt;a class=\"FPKeywords\" href=\"https://www.turbo...</td>\n",
       "      <td>Small low poly shop cabin.</td>\n",
       "    </tr>\n",
       "    <tr>\n",
       "      <th>3</th>\n",
       "      <td>3</td>\n",
       "      <td>3D Viper sniper rifle</td>\n",
       "      <td>Young_Wizard</td>\n",
       "      <td>\\nFree\\n</td>\n",
       "      <td>- All Extended Uses</td>\n",
       "      <td>2019-07-20</td>\n",
       "      <td>\\n\\n\\nFBX \\n\\n\\n\\n\\nOBJ \\n\\n\\n\\n\\nOther \\n\\n</td>\n",
       "      <td>[&lt;a href=\"https://www.turbosquid.com/Search/3d...</td>\n",
       "      <td>[&lt;a class=\"FPKeywords\" href=\"https://www.turbo...</td>\n",
       "      <td>Game ready model, low poly can used as a game ...</td>\n",
       "    </tr>\n",
       "    <tr>\n",
       "      <th>4</th>\n",
       "      <td>4</td>\n",
       "      <td>Atom model</td>\n",
       "      <td>Abdo Ashraf</td>\n",
       "      <td>\\nFree\\n</td>\n",
       "      <td>- All Extended Uses</td>\n",
       "      <td>2019-07-20</td>\n",
       "      <td>NaN</td>\n",
       "      <td>[&lt;a href=\"https://www.turbosquid.com/Search/3d...</td>\n",
       "      <td>[&lt;a class=\"FPKeywords\" href=\"https://www.turbo...</td>\n",
       "      <td>3D model for the atom. The whole project was m...</td>\n",
       "    </tr>\n",
       "    <tr>\n",
       "      <th>5</th>\n",
       "      <td>5</td>\n",
       "      <td>3D Fan</td>\n",
       "      <td>Akumax Maxime</td>\n",
       "      <td>\\nFree\\n</td>\n",
       "      <td>- All Extended Uses</td>\n",
       "      <td>2019-07-19</td>\n",
       "      <td>\\n\\n\\nOBJ \\n\\n</td>\n",
       "      <td>NaN</td>\n",
       "      <td>[&lt;a class=\"FPKeywords\" href=\"https://www.turbo...</td>\n",
       "      <td>Vintage fan</td>\n",
       "    </tr>\n",
       "    <tr>\n",
       "      <th>6</th>\n",
       "      <td>6</td>\n",
       "      <td>Pouf Stool 3D model</td>\n",
       "      <td>folkvangr</td>\n",
       "      <td>\\nFree\\n</td>\n",
       "      <td>- All Extended Uses</td>\n",
       "      <td>2019-07-19</td>\n",
       "      <td>NaN</td>\n",
       "      <td>NaN</td>\n",
       "      <td>[&lt;a class=\"FPKeywords\" href=\"https://www.turbo...</td>\n",
       "      <td>This model was created for an art challenge an...</td>\n",
       "    </tr>\n",
       "    <tr>\n",
       "      <th>7</th>\n",
       "      <td>7</td>\n",
       "      <td>Indoor test 3D model</td>\n",
       "      <td>folkvangr</td>\n",
       "      <td>\\nFree\\n</td>\n",
       "      <td>- All Extended Uses</td>\n",
       "      <td>2019-07-19</td>\n",
       "      <td>NaN</td>\n",
       "      <td>NaN</td>\n",
       "      <td>[&lt;a class=\"FPKeywords\" href=\"https://www.turbo...</td>\n",
       "      <td>Indoors test scene made with Blender 2.8.It co...</td>\n",
       "    </tr>\n",
       "    <tr>\n",
       "      <th>8</th>\n",
       "      <td>8</td>\n",
       "      <td>3D model Apartment basic floor plan</td>\n",
       "      <td>folkvangr</td>\n",
       "      <td>\\nFree\\n</td>\n",
       "      <td>- All Extended Uses</td>\n",
       "      <td>2019-07-19</td>\n",
       "      <td>NaN</td>\n",
       "      <td>NaN</td>\n",
       "      <td>[&lt;a class=\"FPKeywords\" href=\"https://www.turbo...</td>\n",
       "      <td>This is a simple architecture test scene made ...</td>\n",
       "    </tr>\n",
       "    <tr>\n",
       "      <th>9</th>\n",
       "      <td>9</td>\n",
       "      <td>3D Coffee Cup</td>\n",
       "      <td>OemThr</td>\n",
       "      <td>\\nFree\\n</td>\n",
       "      <td>- All Extended Uses</td>\n",
       "      <td>2019-07-19</td>\n",
       "      <td>\\n\\n\\nOBJ \\n\\n\\n\\n\\nFBX \\n\\n\\n\\n\\nCollada \\n\\n</td>\n",
       "      <td>[&lt;a href=\"https://www.turbosquid.com/Search/3d...</td>\n",
       "      <td>[&lt;a class=\"FPKeywords\" href=\"https://www.turbo...</td>\n",
       "      <td>- Ceramic coffee cup with plate -This model co...</td>\n",
       "    </tr>\n",
       "    <tr>\n",
       "      <th>10</th>\n",
       "      <td>10</td>\n",
       "      <td>Man HeadSculpt 3D model</td>\n",
       "      <td>Vertici</td>\n",
       "      <td>\\nFree\\n</td>\n",
       "      <td>- All Extended Uses</td>\n",
       "      <td>2019-07-19</td>\n",
       "      <td>NaN</td>\n",
       "      <td>NaN</td>\n",
       "      <td>[&lt;a class=\"FPKeywords\" href=\"https://www.turbo...</td>\n",
       "      <td>Just a sculpting/texturing practice I did.</td>\n",
       "    </tr>\n",
       "    <tr>\n",
       "      <th>11</th>\n",
       "      <td>11</td>\n",
       "      <td>blue low poly car model</td>\n",
       "      <td>Andres_R26</td>\n",
       "      <td>\\nFree\\n</td>\n",
       "      <td>- All Extended Uses</td>\n",
       "      <td>2019-07-19</td>\n",
       "      <td>\\n\\n\\nOther \\n\\n</td>\n",
       "      <td>NaN</td>\n",
       "      <td>[&lt;a class=\"FPKeywords\" href=\"https://www.turbo...</td>\n",
       "      <td>free 3d obj and Maya please give me. feedback,...</td>\n",
       "    </tr>\n",
       "    <tr>\n",
       "      <th>12</th>\n",
       "      <td>12</td>\n",
       "      <td>Bath house architecture test 3D model</td>\n",
       "      <td>folkvangr</td>\n",
       "      <td>\\nFree\\n</td>\n",
       "      <td>- All Extended Uses</td>\n",
       "      <td>2019-07-18</td>\n",
       "      <td>NaN</td>\n",
       "      <td>NaN</td>\n",
       "      <td>[&lt;a class=\"FPKeywords\" href=\"https://www.turbo...</td>\n",
       "      <td>This is a simple architecture test scene made ...</td>\n",
       "    </tr>\n",
       "    <tr>\n",
       "      <th>13</th>\n",
       "      <td>13</td>\n",
       "      <td>Motorola Moto G7 Plus Blue And Red 3D model</td>\n",
       "      <td>ES_3D</td>\n",
       "      <td>\\nFree\\n</td>\n",
       "      <td>- Editorial Uses AllowedExtended Uses May Nee...</td>\n",
       "      <td>2019-07-18</td>\n",
       "      <td>\\n\\n\\n3D Studio 2011\\n\\n\\n\\n\\nFBX 2011\\n\\n\\n\\n...</td>\n",
       "      <td>[&lt;a href=\"https://www.turbosquid.com/Search/3d...</td>\n",
       "      <td>[&lt;a class=\"FPKeywords\" href=\"https://www.turbo...</td>\n",
       "      <td>Detailed High definition model Xiaomi Redmi 7A...</td>\n",
       "    </tr>\n",
       "    <tr>\n",
       "      <th>14</th>\n",
       "      <td>14</td>\n",
       "      <td>3D Lighting</td>\n",
       "      <td>w1050263</td>\n",
       "      <td>\\nFree\\n</td>\n",
       "      <td>- All Extended Uses</td>\n",
       "      <td>2019-07-18</td>\n",
       "      <td>\\n\\n\\n3D Studio \\n\\n\\n\\n\\nOBJ \\n\\n\\n\\n\\nFBX \\n...</td>\n",
       "      <td>[&lt;a href=\"https://www.turbosquid.com/Search/3d...</td>\n",
       "      <td>[&lt;a class=\"FPKeywords\" href=\"https://www.turbo...</td>\n",
       "      <td>NaN</td>\n",
       "    </tr>\n",
       "    <tr>\n",
       "      <th>15</th>\n",
       "      <td>15</td>\n",
       "      <td>office chair 3D</td>\n",
       "      <td>Esraa abdelsalam2711</td>\n",
       "      <td>\\nFree\\n</td>\n",
       "      <td>- All Extended Uses</td>\n",
       "      <td>2019-07-17</td>\n",
       "      <td>\\n\\n\\n3D Studio \\n\\n\\n\\n\\nCollada \\n\\n\\n\\n\\nFB...</td>\n",
       "      <td>[&lt;a href=\"https://www.turbosquid.com/Search/3d...</td>\n",
       "      <td>[&lt;a class=\"FPKeywords\" href=\"https://www.turbo...</td>\n",
       "      <td>**office chair** with vray material ready to p...</td>\n",
       "    </tr>\n",
       "    <tr>\n",
       "      <th>16</th>\n",
       "      <td>16</td>\n",
       "      <td>3D model Free garden urn planter</td>\n",
       "      <td>wave design</td>\n",
       "      <td>\\nFree\\n</td>\n",
       "      <td>- All Extended Uses</td>\n",
       "      <td>2019-07-17</td>\n",
       "      <td>\\n\\n\\nOBJ \\n\\n\\n\\n\\nFBX \\n\\n\\n\\n\\nCollada \\n\\n</td>\n",
       "      <td>[&lt;a href=\"https://www.turbosquid.com/Search/3d...</td>\n",
       "      <td>[&lt;a class=\"FPKeywords\" href=\"https://www.turbo...</td>\n",
       "      <td>* This Urn is a high quality polygonal model w...</td>\n",
       "    </tr>\n",
       "    <tr>\n",
       "      <th>17</th>\n",
       "      <td>17</td>\n",
       "      <td>3D model Table</td>\n",
       "      <td>shara_d</td>\n",
       "      <td>\\nFree\\n</td>\n",
       "      <td>- All Extended Uses</td>\n",
       "      <td>2019-07-14</td>\n",
       "      <td>\\n\\n\\nFBX \\n\\n\\n\\n\\nCollada \\n\\n\\n\\n\\nOBJ \\n\\n</td>\n",
       "      <td>[&lt;a href=\"https://www.turbosquid.com/Search/3d...</td>\n",
       "      <td>[&lt;a class=\"FPKeywords\" href=\"https://www.turbo...</td>\n",
       "      <td>OBJ, FBX, DAE files of an unwrapped 3D object ...</td>\n",
       "    </tr>\n",
       "    <tr>\n",
       "      <th>18</th>\n",
       "      <td>18</td>\n",
       "      <td>3D Metal Containers</td>\n",
       "      <td>Adrian Kulawik</td>\n",
       "      <td>\\nFree\\n</td>\n",
       "      <td>- All Extended Uses</td>\n",
       "      <td>2019-07-17</td>\n",
       "      <td>\\n\\n\\nOBJ 2019\\n\\n</td>\n",
       "      <td>[&lt;a href=\"https://www.turbosquid.com/Search/3d...</td>\n",
       "      <td>[&lt;a class=\"FPKeywords\" href=\"https://www.turbo...</td>\n",
       "      <td>Metal Containers3D Model Ready for Games. PBR ...</td>\n",
       "    </tr>\n",
       "    <tr>\n",
       "      <th>19</th>\n",
       "      <td>19</td>\n",
       "      <td>3D coffee machine</td>\n",
       "      <td>w1050263</td>\n",
       "      <td>\\nFree\\n</td>\n",
       "      <td>- All Extended Uses</td>\n",
       "      <td>2019-07-17</td>\n",
       "      <td>\\n\\n\\nOBJ \\n\\n\\n\\n\\n3D Studio \\n\\n\\n\\n\\nFBX \\n...</td>\n",
       "      <td>[&lt;a href=\"https://www.turbosquid.com/Search/3d...</td>\n",
       "      <td>[&lt;a class=\"FPKeywords\" href=\"https://www.turbo...</td>\n",
       "      <td>Saved as 3ds max 2015 version file.As you work...</td>\n",
       "    </tr>\n",
       "    <tr>\n",
       "      <th>20</th>\n",
       "      <td>20</td>\n",
       "      <td>3D sink</td>\n",
       "      <td>w1050263</td>\n",
       "      <td>\\nFree\\n</td>\n",
       "      <td>- All Extended Uses</td>\n",
       "      <td>2019-07-17</td>\n",
       "      <td>\\n\\n\\n3D Studio \\n\\n\\n\\n\\nOBJ \\n\\n\\n\\n\\nFBX \\n...</td>\n",
       "      <td>[&lt;a href=\"https://www.turbosquid.com/Search/3d...</td>\n",
       "      <td>[&lt;a class=\"FPKeywords\" href=\"https://www.turbo...</td>\n",
       "      <td>#sink #Kitchen #tap #faucet #bibcock</td>\n",
       "    </tr>\n",
       "    <tr>\n",
       "      <th>21</th>\n",
       "      <td>21</td>\n",
       "      <td>3D model building 002</td>\n",
       "      <td>vini3dmodels</td>\n",
       "      <td>\\nFree\\n</td>\n",
       "      <td>- All Extended Uses</td>\n",
       "      <td>2019-07-15</td>\n",
       "      <td>\\n\\n\\nFBX 2016\\n\\n\\n\\n\\nOBJ 2016\\n\\n\\n\\n\\nOthe...</td>\n",
       "      <td>[&lt;a href=\"https://www.turbosquid.com/Search/3d...</td>\n",
       "      <td>[&lt;a class=\"FPKeywords\" href=\"https://www.turbo...</td>\n",
       "      <td>This is a simple house model. Except for the c...</td>\n",
       "    </tr>\n",
       "    <tr>\n",
       "      <th>22</th>\n",
       "      <td>22</td>\n",
       "      <td>table 3D model</td>\n",
       "      <td>w1050263</td>\n",
       "      <td>\\nFree\\n</td>\n",
       "      <td>- All Extended Uses</td>\n",
       "      <td>2019-07-15</td>\n",
       "      <td>\\n\\n\\n3D Studio \\n\\n\\n\\n\\nFBX \\n\\n\\n\\n\\nOBJ \\n...</td>\n",
       "      <td>[&lt;a href=\"https://www.turbosquid.com/Search/3d...</td>\n",
       "      <td>[&lt;a class=\"FPKeywords\" href=\"https://www.turbo...</td>\n",
       "      <td>* Saved as 3ds max 2015 version file.Nowadays,...</td>\n",
       "    </tr>\n",
       "    <tr>\n",
       "      <th>23</th>\n",
       "      <td>23</td>\n",
       "      <td>3D CPU case fan</td>\n",
       "      <td>DevmanModels</td>\n",
       "      <td>\\nFree\\n</td>\n",
       "      <td>- All Extended Uses</td>\n",
       "      <td>2019-07-14</td>\n",
       "      <td>\\n\\n\\nOther \\n\\n</td>\n",
       "      <td>[&lt;a href=\"https://www.turbosquid.com/Search/3d...</td>\n",
       "      <td>[&lt;a class=\"FPKeywords\" href=\"https://www.turbo...</td>\n",
       "      <td>A CPU fan.Low poly and mid poly includedBlend ...</td>\n",
       "    </tr>\n",
       "    <tr>\n",
       "      <th>24</th>\n",
       "      <td>24</td>\n",
       "      <td>3D Canister</td>\n",
       "      <td>MarkoffIN</td>\n",
       "      <td>\\nFree\\n</td>\n",
       "      <td>- All Extended Uses</td>\n",
       "      <td>2019-07-13</td>\n",
       "      <td>\\n\\n\\nFBX \\n\\n</td>\n",
       "      <td>[&lt;a href=\"https://www.turbosquid.com/Search/3d...</td>\n",
       "      <td>[&lt;a class=\"FPKeywords\" href=\"https://www.turbo...</td>\n",
       "      <td>Low poly fuel canister.</td>\n",
       "    </tr>\n",
       "    <tr>\n",
       "      <th>25</th>\n",
       "      <td>25</td>\n",
       "      <td>3D Road Spikes</td>\n",
       "      <td>MarkoffIN</td>\n",
       "      <td>\\nFree\\n</td>\n",
       "      <td>- All Extended Uses</td>\n",
       "      <td>2019-07-13</td>\n",
       "      <td>\\n\\n\\nFBX \\n\\n</td>\n",
       "      <td>[&lt;a href=\"https://www.turbosquid.com/Search/3d...</td>\n",
       "      <td>[&lt;a class=\"FPKeywords\" href=\"https://www.turbo...</td>\n",
       "      <td>Low poly road obstacle with texture.</td>\n",
       "    </tr>\n",
       "    <tr>\n",
       "      <th>26</th>\n",
       "      <td>26</td>\n",
       "      <td>Chair 3D model</td>\n",
       "      <td>ferhatkose</td>\n",
       "      <td>\\nFree\\n</td>\n",
       "      <td>- Editorial Uses Only</td>\n",
       "      <td>2019-07-12</td>\n",
       "      <td>NaN</td>\n",
       "      <td>[&lt;a href=\"https://www.turbosquid.com/Search/3d...</td>\n",
       "      <td>[&lt;a class=\"FPKeywords\" href=\"https://www.turbo...</td>\n",
       "      <td>Models:ChairFormats:max</td>\n",
       "    </tr>\n",
       "    <tr>\n",
       "      <th>27</th>\n",
       "      <td>27</td>\n",
       "      <td>3D Chemical Bottle</td>\n",
       "      <td>filburn</td>\n",
       "      <td>\\nFree\\n</td>\n",
       "      <td>- All Extended Uses</td>\n",
       "      <td>2019-07-12</td>\n",
       "      <td>\\n\\n\\nFBX \\n\\n\\n\\n\\nOBJ \\n\\n\\n\\n\\nSTL \\n\\n\\n\\n...</td>\n",
       "      <td>[&lt;a href=\"https://www.turbosquid.com/Search/3d...</td>\n",
       "      <td>[&lt;a class=\"FPKeywords\" href=\"https://www.turbo...</td>\n",
       "      <td>Chemical bottle with generic hazards label. Us...</td>\n",
       "    </tr>\n",
       "    <tr>\n",
       "      <th>28</th>\n",
       "      <td>28</td>\n",
       "      <td>Galaxy Plate Set model</td>\n",
       "      <td>MikaelaDWilliams</td>\n",
       "      <td>\\nFree\\n</td>\n",
       "      <td>- All Extended Uses</td>\n",
       "      <td>2019-07-12</td>\n",
       "      <td>\\n\\n\\nOBJ \\n\\n</td>\n",
       "      <td>[&lt;a href=\"https://www.turbosquid.com/Search/3d...</td>\n",
       "      <td>[&lt;a class=\"FPKeywords\" href=\"https://www.turbo...</td>\n",
       "      <td>A simple plate and cup set decorated with gold...</td>\n",
       "    </tr>\n",
       "    <tr>\n",
       "      <th>29</th>\n",
       "      <td>29</td>\n",
       "      <td>3D model japanese bridge</td>\n",
       "      <td>nahidhassan881</td>\n",
       "      <td>\\nFree\\n</td>\n",
       "      <td>- All Extended Uses</td>\n",
       "      <td>2019-07-12</td>\n",
       "      <td>NaN</td>\n",
       "      <td>[&lt;a href=\"https://www.turbosquid.com/Search/3d...</td>\n",
       "      <td>[&lt;a class=\"FPKeywords\" href=\"https://www.turbo...</td>\n",
       "      <td>this a japanese future bridge. because of my p...</td>\n",
       "    </tr>\n",
       "    <tr>\n",
       "      <th>...</th>\n",
       "      <td>...</td>\n",
       "      <td>...</td>\n",
       "      <td>...</td>\n",
       "      <td>...</td>\n",
       "      <td>...</td>\n",
       "      <td>...</td>\n",
       "      <td>...</td>\n",
       "      <td>...</td>\n",
       "      <td>...</td>\n",
       "      <td>...</td>\n",
       "    </tr>\n",
       "    <tr>\n",
       "      <th>970</th>\n",
       "      <td>970</td>\n",
       "      <td>3D model Ruckus R710</td>\n",
       "      <td>bgconder</td>\n",
       "      <td>\\nFree\\n</td>\n",
       "      <td>- Editorial Uses Only</td>\n",
       "      <td>2018-11-11</td>\n",
       "      <td>\\n\\n\\nAutoCAD drawing \\n\\n\\n\\n\\nOther \\n\\n</td>\n",
       "      <td>[&lt;a href=\"https://www.turbosquid.com/Search/3d...</td>\n",
       "      <td>[&lt;a class=\"FPKeywords\" href=\"https://www.turbo...</td>\n",
       "      <td>R710 Indoor Access Point, The model comes with...</td>\n",
       "    </tr>\n",
       "    <tr>\n",
       "      <th>971</th>\n",
       "      <td>971</td>\n",
       "      <td>Anime Girl Model Kawaii 3D model</td>\n",
       "      <td>Lyrog</td>\n",
       "      <td>\\nFree\\n</td>\n",
       "      <td>- All Extended Uses</td>\n",
       "      <td>2018-11-11</td>\n",
       "      <td>\\n\\n\\nFBX \\n\\n\\n\\n\\nOBJ \\n\\n\\n\\n\\n3D Studio \\n\\n</td>\n",
       "      <td>[&lt;a href=\"https://www.turbosquid.com/Search/3d...</td>\n",
       "      <td>[&lt;a class=\"FPKeywords\" href=\"https://www.turbo...</td>\n",
       "      <td>Model of a girl, hope you like it.</td>\n",
       "    </tr>\n",
       "    <tr>\n",
       "      <th>972</th>\n",
       "      <td>972</td>\n",
       "      <td>3D Xmas stuff model</td>\n",
       "      <td>GAMEASS</td>\n",
       "      <td>\\nFree\\n</td>\n",
       "      <td>- All Extended Uses</td>\n",
       "      <td>2018-11-11</td>\n",
       "      <td>\\n\\n\\nFBX \\n\\n</td>\n",
       "      <td>[&lt;a href=\"https://www.turbosquid.com/Search/3d...</td>\n",
       "      <td>[&lt;a class=\"FPKeywords\" href=\"https://www.turbo...</td>\n",
       "      <td>MERRY CHRISTMAS UNITY DEVELOPERS!!!!!!!!!this ...</td>\n",
       "    </tr>\n",
       "    <tr>\n",
       "      <th>973</th>\n",
       "      <td>973</td>\n",
       "      <td>female character red top 3D model</td>\n",
       "      <td>Devil_Risen</td>\n",
       "      <td>\\nFree\\n</td>\n",
       "      <td>- All Extended Uses</td>\n",
       "      <td>2018-11-10</td>\n",
       "      <td>NaN</td>\n",
       "      <td>[&lt;a href=\"https://www.turbosquid.com/Search/3d...</td>\n",
       "      <td>[&lt;a class=\"FPKeywords\" href=\"https://www.turbo...</td>\n",
       "      <td>red top for woman character, comment me so i u...</td>\n",
       "    </tr>\n",
       "    <tr>\n",
       "      <th>974</th>\n",
       "      <td>974</td>\n",
       "      <td>Simple VR Headset Free Model 3D model</td>\n",
       "      <td>Batareykin</td>\n",
       "      <td>\\nFree\\n</td>\n",
       "      <td>- All Extended Uses</td>\n",
       "      <td>2018-11-10</td>\n",
       "      <td>\\n\\n\\nFBX \\n\\n\\n\\n\\nOBJ \\n\\n\\n\\n\\nOther \\n\\n</td>\n",
       "      <td>[&lt;a href=\"https://www.turbosquid.com/Search/3d...</td>\n",
       "      <td>[&lt;a class=\"FPKeywords\" href=\"https://www.turbo...</td>\n",
       "      <td>VR Goggles Headset Simple 3d model. Virtual Re...</td>\n",
       "    </tr>\n",
       "    <tr>\n",
       "      <th>975</th>\n",
       "      <td>975</td>\n",
       "      <td>3D Fantasy Gun</td>\n",
       "      <td>Trecade</td>\n",
       "      <td>\\nFree\\n</td>\n",
       "      <td>- All Extended Uses</td>\n",
       "      <td>2018-11-10</td>\n",
       "      <td>NaN</td>\n",
       "      <td>[&lt;a href=\"https://www.turbosquid.com/Search/3d...</td>\n",
       "      <td>[&lt;a class=\"FPKeywords\" href=\"https://www.turbo...</td>\n",
       "      <td>Fantasy GunReady to render.Originally created ...</td>\n",
       "    </tr>\n",
       "    <tr>\n",
       "      <th>976</th>\n",
       "      <td>976</td>\n",
       "      <td>3D  model</td>\n",
       "      <td>JazzTer1337</td>\n",
       "      <td>\\nFree\\n</td>\n",
       "      <td>- All Extended Uses</td>\n",
       "      <td>2018-11-10</td>\n",
       "      <td>\\n\\n\\nFBX \\n\\n\\n\\n\\nOBJ \\n\\n</td>\n",
       "      <td>[&lt;a href=\"https://www.turbosquid.com/Search/3d...</td>\n",
       "      <td>[&lt;a class=\"FPKeywords\" href=\"https://www.turbo...</td>\n",
       "      <td>This is my first project in blender. I'm gonna...</td>\n",
       "    </tr>\n",
       "    <tr>\n",
       "      <th>977</th>\n",
       "      <td>977</td>\n",
       "      <td>3D hammer model</td>\n",
       "      <td>cyberbrun</td>\n",
       "      <td>\\nFree\\n</td>\n",
       "      <td>- All Extended Uses</td>\n",
       "      <td>2018-11-10</td>\n",
       "      <td>\\n\\n\\nglTF 2.0\\n\\n</td>\n",
       "      <td>[&lt;a href=\"https://www.turbosquid.com/Search/3d...</td>\n",
       "      <td>[&lt;a class=\"FPKeywords\" href=\"https://www.turbo...</td>\n",
       "      <td>Simple low poly hammer with PBR material</td>\n",
       "    </tr>\n",
       "    <tr>\n",
       "      <th>978</th>\n",
       "      <td>978</td>\n",
       "      <td>3D Old Balcony. Low Poly</td>\n",
       "      <td>Marc Mons</td>\n",
       "      <td>\\nFree\\n</td>\n",
       "      <td>- All Extended Uses</td>\n",
       "      <td>2018-11-09</td>\n",
       "      <td>\\n\\n\\nOBJ 2016\\n\\n\\n\\n\\nFBX 2016\\n\\n</td>\n",
       "      <td>[&lt;a href=\"https://www.turbosquid.com/Search/3d...</td>\n",
       "      <td>[&lt;a class=\"FPKeywords\" href=\"https://www.turbo...</td>\n",
       "      <td>Modeled with Autodesk Maya 2016 using polygons...</td>\n",
       "    </tr>\n",
       "    <tr>\n",
       "      <th>979</th>\n",
       "      <td>979</td>\n",
       "      <td>Puset Earring 3D model</td>\n",
       "      <td>SvetlanaLynne</td>\n",
       "      <td>\\nFree\\n</td>\n",
       "      <td>- All Extended Uses</td>\n",
       "      <td>2018-11-08</td>\n",
       "      <td>\\n\\n\\nOBJ \\n\\n\\n\\n\\nOther \\n\\n\\n\\n\\nSTL \\n\\n</td>\n",
       "      <td>[&lt;a href=\"https://www.turbosquid.com/Search/3d...</td>\n",
       "      <td>[&lt;a class=\"FPKeywords\" href=\"https://www.turbo...</td>\n",
       "      <td>Dear friends,You may need an earring for your ...</td>\n",
       "    </tr>\n",
       "    <tr>\n",
       "      <th>980</th>\n",
       "      <td>980</td>\n",
       "      <td>No pattern Ring 3D model</td>\n",
       "      <td>SvetlanaLynne</td>\n",
       "      <td>\\nFree\\n</td>\n",
       "      <td>- All Extended Uses</td>\n",
       "      <td>2018-11-08</td>\n",
       "      <td>\\n\\n\\nSTL \\n\\n\\n\\n\\nOther \\n\\n\\n\\n\\nOBJ \\n\\n</td>\n",
       "      <td>[&lt;a href=\"https://www.turbosquid.com/Search/3d...</td>\n",
       "      <td>[&lt;a class=\"FPKeywords\" href=\"https://www.turbo...</td>\n",
       "      <td>Dear friends,Please feel free to download this...</td>\n",
       "    </tr>\n",
       "    <tr>\n",
       "      <th>981</th>\n",
       "      <td>981</td>\n",
       "      <td>Room Furniture 3D model</td>\n",
       "      <td>PandaGraphics3D</td>\n",
       "      <td>\\nFree\\n</td>\n",
       "      <td>- All Extended Uses</td>\n",
       "      <td>2018-11-07</td>\n",
       "      <td>\\n\\n\\nFBX 1.0\\n\\n\\n\\n\\nOBJ 1.0\\n\\n</td>\n",
       "      <td>[&lt;a href=\"https://www.turbosquid.com/Search/3d...</td>\n",
       "      <td>[&lt;a class=\"FPKeywords\" href=\"https://www.turbo...</td>\n",
       "      <td>A model make by PandaGraphics of Free Use.</td>\n",
       "    </tr>\n",
       "    <tr>\n",
       "      <th>982</th>\n",
       "      <td>982</td>\n",
       "      <td>3D (spear &amp; flag for unity)(1)</td>\n",
       "      <td>GAMEASS</td>\n",
       "      <td>\\nFree\\n</td>\n",
       "      <td>- All Extended Uses</td>\n",
       "      <td>2018-11-07</td>\n",
       "      <td>\\n\\n\\nFBX \\n\\n\\n\\n\\n3D Studio \\n\\n\\n\\n\\nOBJ \\n...</td>\n",
       "      <td>[&lt;a href=\"https://www.turbosquid.com/Search/3d...</td>\n",
       "      <td>[&lt;a class=\"FPKeywords\" href=\"https://www.turbo...</td>\n",
       "      <td>GAME READY SPEAR &amp; FLAGS HEREthis is unity pac...</td>\n",
       "    </tr>\n",
       "    <tr>\n",
       "      <th>983</th>\n",
       "      <td>983</td>\n",
       "      <td>3D book model</td>\n",
       "      <td>architechCG</td>\n",
       "      <td>\\nFree\\n</td>\n",
       "      <td>- Editorial Uses Only</td>\n",
       "      <td>2018-11-07</td>\n",
       "      <td>\\n\\n\\nFBX 2.79b\\n\\n\\n\\n\\nOther \\n\\n</td>\n",
       "      <td>[&lt;a href=\"https://www.turbosquid.com/Search/3d...</td>\n",
       "      <td>[&lt;a class=\"FPKeywords\" href=\"https://www.turbo...</td>\n",
       "      <td>low poly book model inside:texturesnormal mapu...</td>\n",
       "    </tr>\n",
       "    <tr>\n",
       "      <th>984</th>\n",
       "      <td>984</td>\n",
       "      <td>3D rocks model</td>\n",
       "      <td>ice kazim</td>\n",
       "      <td>\\nFree\\n</td>\n",
       "      <td>- All Extended Uses</td>\n",
       "      <td>2018-11-06</td>\n",
       "      <td>\\n\\n\\nOBJ \\n\\n</td>\n",
       "      <td>[&lt;a href=\"https://www.turbosquid.com/Search/3d...</td>\n",
       "      <td>[&lt;a class=\"FPKeywords\" href=\"https://www.turbo...</td>\n",
       "      <td>Rock_9...........................10191 polygon...</td>\n",
       "    </tr>\n",
       "    <tr>\n",
       "      <th>985</th>\n",
       "      <td>985</td>\n",
       "      <td>3D model rocks</td>\n",
       "      <td>ice kazim</td>\n",
       "      <td>\\nFree\\n</td>\n",
       "      <td>- All Extended Uses</td>\n",
       "      <td>2018-11-06</td>\n",
       "      <td>\\n\\n\\nOBJ \\n\\n</td>\n",
       "      <td>[&lt;a href=\"https://www.turbosquid.com/Search/3d...</td>\n",
       "      <td>[&lt;a class=\"FPKeywords\" href=\"https://www.turbo...</td>\n",
       "      <td>Rock_9...........................10191 polygon...</td>\n",
       "    </tr>\n",
       "    <tr>\n",
       "      <th>986</th>\n",
       "      <td>986</td>\n",
       "      <td>3D rocks(1)</td>\n",
       "      <td>ice kazim</td>\n",
       "      <td>\\nFree\\n</td>\n",
       "      <td>- All Extended Uses</td>\n",
       "      <td>2018-11-06</td>\n",
       "      <td>\\n\\n\\nOBJ \\n\\n</td>\n",
       "      <td>[&lt;a href=\"https://www.turbosquid.com/Search/3d...</td>\n",
       "      <td>[&lt;a class=\"FPKeywords\" href=\"https://www.turbo...</td>\n",
       "      <td>Rock_9...........................10191 polygon...</td>\n",
       "    </tr>\n",
       "    <tr>\n",
       "      <th>987</th>\n",
       "      <td>987</td>\n",
       "      <td>3D tree Red pine Low Poly model</td>\n",
       "      <td>Tsuu</td>\n",
       "      <td>\\nFree\\n</td>\n",
       "      <td>- All Extended Uses</td>\n",
       "      <td>2018-11-05</td>\n",
       "      <td>\\n\\n\\n3D Studio \\n\\n\\n\\n\\nFBX \\n\\n\\n\\n\\nOther ...</td>\n",
       "      <td>[&lt;a href=\"https://www.turbosquid.com/Search/3d...</td>\n",
       "      <td>[&lt;a class=\"FPKeywords\" href=\"https://www.turbo...</td>\n",
       "      <td>tree Red pine Low Poly Modelingmax2017Export:m...</td>\n",
       "    </tr>\n",
       "    <tr>\n",
       "      <th>988</th>\n",
       "      <td>988</td>\n",
       "      <td>Fauteuil de Salon Haut 3D model</td>\n",
       "      <td>Rodolfo Boscan</td>\n",
       "      <td>\\nFree\\n</td>\n",
       "      <td>- Editorial Uses AllowedExtended Uses May Nee...</td>\n",
       "      <td>2018-11-05</td>\n",
       "      <td>\\n\\n\\nOther \\n\\n\\n\\n\\nSTL \\n\\n\\n\\n\\nOBJ \\n\\n\\n...</td>\n",
       "      <td>[&lt;a href=\"https://www.turbosquid.com/Search/3d...</td>\n",
       "      <td>[&lt;a class=\"FPKeywords\" href=\"https://www.turbo...</td>\n",
       "      <td>This is a high poly rendered in VRay.Stack not...</td>\n",
       "    </tr>\n",
       "    <tr>\n",
       "      <th>989</th>\n",
       "      <td>989</td>\n",
       "      <td>Sacrifice Stone Altar (Texture Included) model</td>\n",
       "      <td>ptrusted</td>\n",
       "      <td>\\nFree\\n</td>\n",
       "      <td>- All Extended Uses</td>\n",
       "      <td>2018-11-05</td>\n",
       "      <td>\\n\\n\\nOBJ \\n\\n</td>\n",
       "      <td>[&lt;a href=\"https://www.turbosquid.com/Search/3d...</td>\n",
       "      <td>[&lt;a class=\"FPKeywords\" href=\"https://www.turbo...</td>\n",
       "      <td>Lowpoly Sacrifice Altar with few bloodstains.</td>\n",
       "    </tr>\n",
       "    <tr>\n",
       "      <th>990</th>\n",
       "      <td>990</td>\n",
       "      <td>3D Solitaire oval gem fancy shank model</td>\n",
       "      <td>3dfantasyworld</td>\n",
       "      <td>\\nFree\\n</td>\n",
       "      <td>- All Extended Uses</td>\n",
       "      <td>2018-11-03</td>\n",
       "      <td>\\n\\n\\nSTL \\n\\n</td>\n",
       "      <td>[&lt;a href=\"https://www.turbosquid.com/Search/3d...</td>\n",
       "      <td>[&lt;a class=\"FPKeywords\" href=\"https://www.turbo...</td>\n",
       "      <td>This is my only free item . It is meant to enc...</td>\n",
       "    </tr>\n",
       "    <tr>\n",
       "      <th>991</th>\n",
       "      <td>991</td>\n",
       "      <td>Pavement Stone 3D model</td>\n",
       "      <td>Hristo Dimitrov</td>\n",
       "      <td>\\nFree\\n</td>\n",
       "      <td>- All Extended Uses</td>\n",
       "      <td>2018-11-03</td>\n",
       "      <td>\\n\\n\\nOBJ \\n\\n\\n\\n\\nOther TEXTURES\\n\\n\\n\\n\\nFB...</td>\n",
       "      <td>[&lt;a href=\"https://www.turbosquid.com/Search/3d...</td>\n",
       "      <td>[&lt;a class=\"FPKeywords\" href=\"https://www.turbo...</td>\n",
       "      <td>Unwrapped low-poly 3d scanned model of Paving ...</td>\n",
       "    </tr>\n",
       "    <tr>\n",
       "      <th>992</th>\n",
       "      <td>992</td>\n",
       "      <td>3D Kaiser Bread Roll</td>\n",
       "      <td>Hristo Dimitrov</td>\n",
       "      <td>\\nFree\\n</td>\n",
       "      <td>- All Extended Uses</td>\n",
       "      <td>2018-11-03</td>\n",
       "      <td>\\n\\n\\nFBX \\n\\n\\n\\n\\nOBJ \\n\\n\\n\\n\\nOther TEXTUR...</td>\n",
       "      <td>[&lt;a href=\"https://www.turbosquid.com/Search/3d...</td>\n",
       "      <td>[&lt;a class=\"FPKeywords\" href=\"https://www.turbo...</td>\n",
       "      <td>Unwrapped low-poly 3d scanned model of Bread R...</td>\n",
       "    </tr>\n",
       "    <tr>\n",
       "      <th>993</th>\n",
       "      <td>993</td>\n",
       "      <td>Fool Cap Shell Free 3D model</td>\n",
       "      <td>Twingsister Fundraising</td>\n",
       "      <td>\\nFree\\n</td>\n",
       "      <td>- All Extended Uses</td>\n",
       "      <td>2018-11-03</td>\n",
       "      <td>\\n\\n\\nOther \\n\\n\\n\\n\\nOBJ \\n\\n\\n\\n\\nSTL \\n\\n</td>\n",
       "      <td>[&lt;a href=\"https://www.turbosquid.com/Search/3d...</td>\n",
       "      <td>[&lt;a class=\"FPKeywords\" href=\"https://www.turbo...</td>\n",
       "      <td>Triangulated Fool Cap shell surface.This was o...</td>\n",
       "    </tr>\n",
       "    <tr>\n",
       "      <th>994</th>\n",
       "      <td>994</td>\n",
       "      <td>Simple Sword 3D model</td>\n",
       "      <td>sepandj</td>\n",
       "      <td>\\nFree\\n</td>\n",
       "      <td>- All Extended Uses</td>\n",
       "      <td>2018-11-02</td>\n",
       "      <td>\\n\\n\\nOBJ \\n\\n\\n\\n\\nOther \\n\\n</td>\n",
       "      <td>[&lt;a href=\"https://www.turbosquid.com/Search/3d...</td>\n",
       "      <td>[&lt;a class=\"FPKeywords\" href=\"https://www.turbo...</td>\n",
       "      <td>A simple steel sword with brass guard and leat...</td>\n",
       "    </tr>\n",
       "    <tr>\n",
       "      <th>995</th>\n",
       "      <td>995</td>\n",
       "      <td>seat 3D model</td>\n",
       "      <td>Vahe S</td>\n",
       "      <td>\\nFree\\n</td>\n",
       "      <td>- All Extended Uses</td>\n",
       "      <td>2018-11-01</td>\n",
       "      <td>NaN</td>\n",
       "      <td>[&lt;a href=\"https://www.turbosquid.com/Search/3d...</td>\n",
       "      <td>[&lt;a class=\"FPKeywords\" href=\"https://www.turbo...</td>\n",
       "      <td>All-time desk.</td>\n",
       "    </tr>\n",
       "    <tr>\n",
       "      <th>996</th>\n",
       "      <td>996</td>\n",
       "      <td>razor scooter 3D</td>\n",
       "      <td>RatBeard</td>\n",
       "      <td>\\nFree\\n</td>\n",
       "      <td>- Editorial Uses AllowedExtended Uses May Nee...</td>\n",
       "      <td>2018-11-01</td>\n",
       "      <td>\\n\\n\\n3D Studio \\n\\n\\n\\n\\nOther \\n\\n\\n\\n\\nColl...</td>\n",
       "      <td>[&lt;a href=\"https://www.turbosquid.com/Search/3d...</td>\n",
       "      <td>[&lt;a class=\"FPKeywords\" href=\"https://www.turbo...</td>\n",
       "      <td>This model is made in blender, you can try to ...</td>\n",
       "    </tr>\n",
       "    <tr>\n",
       "      <th>997</th>\n",
       "      <td>997</td>\n",
       "      <td>3D Modern Brick House_1</td>\n",
       "      <td>Max3dModel</td>\n",
       "      <td>\\nFree\\n</td>\n",
       "      <td>- All Extended Uses</td>\n",
       "      <td>2018-10-31</td>\n",
       "      <td>\\n\\n\\n3D Studio \\n\\n\\n\\n\\nFBX \\n\\n\\n\\n\\nOBJ \\n\\n</td>\n",
       "      <td>[&lt;a href=\"https://www.turbosquid.com/Search/3d...</td>\n",
       "      <td>[&lt;a class=\"FPKeywords\" href=\"https://www.turbo...</td>\n",
       "      <td>ABOUT MODEL:-* This is a Realistic 3d model wi...</td>\n",
       "    </tr>\n",
       "    <tr>\n",
       "      <th>998</th>\n",
       "      <td>998</td>\n",
       "      <td>3D Low poly tactical bow</td>\n",
       "      <td>Painki11er</td>\n",
       "      <td>\\nFree\\n</td>\n",
       "      <td>- All Extended Uses</td>\n",
       "      <td>2018-10-30</td>\n",
       "      <td>\\n\\n\\nFBX \\n\\n\\n\\n\\nOBJ \\n\\n</td>\n",
       "      <td>[&lt;a href=\"https://www.turbosquid.com/Search/3d...</td>\n",
       "      <td>[&lt;a class=\"FPKeywords\" href=\"https://www.turbo...</td>\n",
       "      <td>This is a rigged low poly bow, it has no anima...</td>\n",
       "    </tr>\n",
       "    <tr>\n",
       "      <th>999</th>\n",
       "      <td>999</td>\n",
       "      <td>3D Mr Krabs</td>\n",
       "      <td>Anthony Yanez</td>\n",
       "      <td>\\nFree\\n</td>\n",
       "      <td>- Editorial Uses AllowedExtended Uses May Nee...</td>\n",
       "      <td>2018-10-30</td>\n",
       "      <td>\\n\\n\\nFBX \\n\\n\\n\\n\\nOther \\n\\n</td>\n",
       "      <td>[&lt;a href=\"https://www.turbosquid.com/Search/3d...</td>\n",
       "      <td>[&lt;a class=\"FPKeywords\" href=\"https://www.turbo...</td>\n",
       "      <td>Eugene Harold Krabs (born November 30, 1942), ...</td>\n",
       "    </tr>\n",
       "  </tbody>\n",
       "</table>\n",
       "<p>1000 rows × 10 columns</p>\n",
       "</div>"
      ],
      "text/plain": [
       "     Unnamed: 0                                      name_model  \\\n",
       "0             0                   Prototyping Polygons 3D model   \n",
       "1             1                       3D counter and bar stools   \n",
       "2             2                             3D model Cabin Shop   \n",
       "3             3                           3D Viper sniper rifle   \n",
       "4             4                                      Atom model   \n",
       "5             5                                          3D Fan   \n",
       "6             6                             Pouf Stool 3D model   \n",
       "7             7                            Indoor test 3D model   \n",
       "8             8             3D model Apartment basic floor plan   \n",
       "9             9                                   3D Coffee Cup   \n",
       "10           10                         Man HeadSculpt 3D model   \n",
       "11           11                         blue low poly car model   \n",
       "12           12           Bath house architecture test 3D model   \n",
       "13           13     Motorola Moto G7 Plus Blue And Red 3D model   \n",
       "14           14                                     3D Lighting   \n",
       "15           15                                 office chair 3D   \n",
       "16           16                3D model Free garden urn planter   \n",
       "17           17                                  3D model Table   \n",
       "18           18                             3D Metal Containers   \n",
       "19           19                               3D coffee machine   \n",
       "20           20                                         3D sink   \n",
       "21           21                           3D model building 002   \n",
       "22           22                                  table 3D model   \n",
       "23           23                                 3D CPU case fan   \n",
       "24           24                                     3D Canister   \n",
       "25           25                                  3D Road Spikes   \n",
       "26           26                                  Chair 3D model   \n",
       "27           27                              3D Chemical Bottle   \n",
       "28           28                          Galaxy Plate Set model   \n",
       "29           29                        3D model japanese bridge   \n",
       "..          ...                                             ...   \n",
       "970         970                            3D model Ruckus R710   \n",
       "971         971                Anime Girl Model Kawaii 3D model   \n",
       "972         972                             3D Xmas stuff model   \n",
       "973         973               female character red top 3D model   \n",
       "974         974           Simple VR Headset Free Model 3D model   \n",
       "975         975                                  3D Fantasy Gun   \n",
       "976         976                                       3D  model   \n",
       "977         977                                 3D hammer model   \n",
       "978         978                        3D Old Balcony. Low Poly   \n",
       "979         979                          Puset Earring 3D model   \n",
       "980         980                        No pattern Ring 3D model   \n",
       "981         981                         Room Furniture 3D model   \n",
       "982         982                  3D (spear & flag for unity)(1)   \n",
       "983         983                                   3D book model   \n",
       "984         984                                  3D rocks model   \n",
       "985         985                                  3D model rocks   \n",
       "986         986                                     3D rocks(1)   \n",
       "987         987                 3D tree Red pine Low Poly model   \n",
       "988         988                 Fauteuil de Salon Haut 3D model   \n",
       "989         989  Sacrifice Stone Altar (Texture Included) model   \n",
       "990         990         3D Solitaire oval gem fancy shank model   \n",
       "991         991                         Pavement Stone 3D model   \n",
       "992         992                            3D Kaiser Bread Roll   \n",
       "993         993                    Fool Cap Shell Free 3D model   \n",
       "994         994                           Simple Sword 3D model   \n",
       "995         995                                   seat 3D model   \n",
       "996         996                                razor scooter 3D   \n",
       "997         997                         3D Modern Brick House_1   \n",
       "998         998                        3D Low poly tactical bow   \n",
       "999         999                                     3D Mr Krabs   \n",
       "\n",
       "                       owner     price  \\\n",
       "0            HyperChromatica  \\nFree\\n   \n",
       "1                     ESalem  \\nFree\\n   \n",
       "2                  MarkoffIN  \\nFree\\n   \n",
       "3               Young_Wizard  \\nFree\\n   \n",
       "4                Abdo Ashraf  \\nFree\\n   \n",
       "5              Akumax Maxime  \\nFree\\n   \n",
       "6                  folkvangr  \\nFree\\n   \n",
       "7                  folkvangr  \\nFree\\n   \n",
       "8                  folkvangr  \\nFree\\n   \n",
       "9                     OemThr  \\nFree\\n   \n",
       "10                   Vertici  \\nFree\\n   \n",
       "11                Andres_R26  \\nFree\\n   \n",
       "12                 folkvangr  \\nFree\\n   \n",
       "13                     ES_3D  \\nFree\\n   \n",
       "14                  w1050263  \\nFree\\n   \n",
       "15      Esraa abdelsalam2711  \\nFree\\n   \n",
       "16               wave design  \\nFree\\n   \n",
       "17                   shara_d  \\nFree\\n   \n",
       "18            Adrian Kulawik  \\nFree\\n   \n",
       "19                  w1050263  \\nFree\\n   \n",
       "20                  w1050263  \\nFree\\n   \n",
       "21              vini3dmodels  \\nFree\\n   \n",
       "22                  w1050263  \\nFree\\n   \n",
       "23              DevmanModels  \\nFree\\n   \n",
       "24                 MarkoffIN  \\nFree\\n   \n",
       "25                 MarkoffIN  \\nFree\\n   \n",
       "26                ferhatkose  \\nFree\\n   \n",
       "27                   filburn  \\nFree\\n   \n",
       "28          MikaelaDWilliams  \\nFree\\n   \n",
       "29            nahidhassan881  \\nFree\\n   \n",
       "..                       ...       ...   \n",
       "970                 bgconder  \\nFree\\n   \n",
       "971                    Lyrog  \\nFree\\n   \n",
       "972                  GAMEASS  \\nFree\\n   \n",
       "973              Devil_Risen  \\nFree\\n   \n",
       "974               Batareykin  \\nFree\\n   \n",
       "975                  Trecade  \\nFree\\n   \n",
       "976              JazzTer1337  \\nFree\\n   \n",
       "977                cyberbrun  \\nFree\\n   \n",
       "978                Marc Mons  \\nFree\\n   \n",
       "979            SvetlanaLynne  \\nFree\\n   \n",
       "980            SvetlanaLynne  \\nFree\\n   \n",
       "981          PandaGraphics3D  \\nFree\\n   \n",
       "982                  GAMEASS  \\nFree\\n   \n",
       "983              architechCG  \\nFree\\n   \n",
       "984                ice kazim  \\nFree\\n   \n",
       "985                ice kazim  \\nFree\\n   \n",
       "986                ice kazim  \\nFree\\n   \n",
       "987                     Tsuu  \\nFree\\n   \n",
       "988           Rodolfo Boscan  \\nFree\\n   \n",
       "989                 ptrusted  \\nFree\\n   \n",
       "990           3dfantasyworld  \\nFree\\n   \n",
       "991          Hristo Dimitrov  \\nFree\\n   \n",
       "992          Hristo Dimitrov  \\nFree\\n   \n",
       "993  Twingsister Fundraising  \\nFree\\n   \n",
       "994                  sepandj  \\nFree\\n   \n",
       "995                   Vahe S  \\nFree\\n   \n",
       "996                 RatBeard  \\nFree\\n   \n",
       "997               Max3dModel  \\nFree\\n   \n",
       "998               Painki11er  \\nFree\\n   \n",
       "999            Anthony Yanez  \\nFree\\n   \n",
       "\n",
       "                                               license published_date  \\\n",
       "0                                  - All Extended Uses     2019-07-20   \n",
       "1                                  - All Extended Uses     2019-07-20   \n",
       "2                                  - All Extended Uses     2019-07-20   \n",
       "3                                  - All Extended Uses     2019-07-20   \n",
       "4                                  - All Extended Uses     2019-07-20   \n",
       "5                                  - All Extended Uses     2019-07-19   \n",
       "6                                  - All Extended Uses     2019-07-19   \n",
       "7                                  - All Extended Uses     2019-07-19   \n",
       "8                                  - All Extended Uses     2019-07-19   \n",
       "9                                  - All Extended Uses     2019-07-19   \n",
       "10                                 - All Extended Uses     2019-07-19   \n",
       "11                                 - All Extended Uses     2019-07-19   \n",
       "12                                 - All Extended Uses     2019-07-18   \n",
       "13    - Editorial Uses AllowedExtended Uses May Nee...     2019-07-18   \n",
       "14                                 - All Extended Uses     2019-07-18   \n",
       "15                                 - All Extended Uses     2019-07-17   \n",
       "16                                 - All Extended Uses     2019-07-17   \n",
       "17                                 - All Extended Uses     2019-07-14   \n",
       "18                                 - All Extended Uses     2019-07-17   \n",
       "19                                 - All Extended Uses     2019-07-17   \n",
       "20                                 - All Extended Uses     2019-07-17   \n",
       "21                                 - All Extended Uses     2019-07-15   \n",
       "22                                 - All Extended Uses     2019-07-15   \n",
       "23                                 - All Extended Uses     2019-07-14   \n",
       "24                                 - All Extended Uses     2019-07-13   \n",
       "25                                 - All Extended Uses     2019-07-13   \n",
       "26                               - Editorial Uses Only     2019-07-12   \n",
       "27                                 - All Extended Uses     2019-07-12   \n",
       "28                                 - All Extended Uses     2019-07-12   \n",
       "29                                 - All Extended Uses     2019-07-12   \n",
       "..                                                 ...            ...   \n",
       "970                              - Editorial Uses Only     2018-11-11   \n",
       "971                                - All Extended Uses     2018-11-11   \n",
       "972                                - All Extended Uses     2018-11-11   \n",
       "973                                - All Extended Uses     2018-11-10   \n",
       "974                                - All Extended Uses     2018-11-10   \n",
       "975                                - All Extended Uses     2018-11-10   \n",
       "976                                - All Extended Uses     2018-11-10   \n",
       "977                                - All Extended Uses     2018-11-10   \n",
       "978                                - All Extended Uses     2018-11-09   \n",
       "979                                - All Extended Uses     2018-11-08   \n",
       "980                                - All Extended Uses     2018-11-08   \n",
       "981                                - All Extended Uses     2018-11-07   \n",
       "982                                - All Extended Uses     2018-11-07   \n",
       "983                              - Editorial Uses Only     2018-11-07   \n",
       "984                                - All Extended Uses     2018-11-06   \n",
       "985                                - All Extended Uses     2018-11-06   \n",
       "986                                - All Extended Uses     2018-11-06   \n",
       "987                                - All Extended Uses     2018-11-05   \n",
       "988   - Editorial Uses AllowedExtended Uses May Nee...     2018-11-05   \n",
       "989                                - All Extended Uses     2018-11-05   \n",
       "990                                - All Extended Uses     2018-11-03   \n",
       "991                                - All Extended Uses     2018-11-03   \n",
       "992                                - All Extended Uses     2018-11-03   \n",
       "993                                - All Extended Uses     2018-11-03   \n",
       "994                                - All Extended Uses     2018-11-02   \n",
       "995                                - All Extended Uses     2018-11-01   \n",
       "996   - Editorial Uses AllowedExtended Uses May Nee...     2018-11-01   \n",
       "997                                - All Extended Uses     2018-10-31   \n",
       "998                                - All Extended Uses     2018-10-30   \n",
       "999   - Editorial Uses AllowedExtended Uses May Nee...     2018-10-30   \n",
       "\n",
       "                                     formats_available  \\\n",
       "0                                    \\n\\n\\nFBX 1.0\\n\\n   \n",
       "1     \\n\\n\\n3D Studio \\n\\n\\n\\n\\nFBX \\n\\n\\n\\n\\nOBJ \\n\\n   \n",
       "2                                       \\n\\n\\nFBX \\n\\n   \n",
       "3         \\n\\n\\nFBX \\n\\n\\n\\n\\nOBJ \\n\\n\\n\\n\\nOther \\n\\n   \n",
       "4                                                  NaN   \n",
       "5                                       \\n\\n\\nOBJ \\n\\n   \n",
       "6                                                  NaN   \n",
       "7                                                  NaN   \n",
       "8                                                  NaN   \n",
       "9       \\n\\n\\nOBJ \\n\\n\\n\\n\\nFBX \\n\\n\\n\\n\\nCollada \\n\\n   \n",
       "10                                                 NaN   \n",
       "11                                    \\n\\n\\nOther \\n\\n   \n",
       "12                                                 NaN   \n",
       "13   \\n\\n\\n3D Studio 2011\\n\\n\\n\\n\\nFBX 2011\\n\\n\\n\\n...   \n",
       "14   \\n\\n\\n3D Studio \\n\\n\\n\\n\\nOBJ \\n\\n\\n\\n\\nFBX \\n...   \n",
       "15   \\n\\n\\n3D Studio \\n\\n\\n\\n\\nCollada \\n\\n\\n\\n\\nFB...   \n",
       "16      \\n\\n\\nOBJ \\n\\n\\n\\n\\nFBX \\n\\n\\n\\n\\nCollada \\n\\n   \n",
       "17      \\n\\n\\nFBX \\n\\n\\n\\n\\nCollada \\n\\n\\n\\n\\nOBJ \\n\\n   \n",
       "18                                  \\n\\n\\nOBJ 2019\\n\\n   \n",
       "19   \\n\\n\\nOBJ \\n\\n\\n\\n\\n3D Studio \\n\\n\\n\\n\\nFBX \\n...   \n",
       "20   \\n\\n\\n3D Studio \\n\\n\\n\\n\\nOBJ \\n\\n\\n\\n\\nFBX \\n...   \n",
       "21   \\n\\n\\nFBX 2016\\n\\n\\n\\n\\nOBJ 2016\\n\\n\\n\\n\\nOthe...   \n",
       "22   \\n\\n\\n3D Studio \\n\\n\\n\\n\\nFBX \\n\\n\\n\\n\\nOBJ \\n...   \n",
       "23                                    \\n\\n\\nOther \\n\\n   \n",
       "24                                      \\n\\n\\nFBX \\n\\n   \n",
       "25                                      \\n\\n\\nFBX \\n\\n   \n",
       "26                                                 NaN   \n",
       "27   \\n\\n\\nFBX \\n\\n\\n\\n\\nOBJ \\n\\n\\n\\n\\nSTL \\n\\n\\n\\n...   \n",
       "28                                      \\n\\n\\nOBJ \\n\\n   \n",
       "29                                                 NaN   \n",
       "..                                                 ...   \n",
       "970         \\n\\n\\nAutoCAD drawing \\n\\n\\n\\n\\nOther \\n\\n   \n",
       "971   \\n\\n\\nFBX \\n\\n\\n\\n\\nOBJ \\n\\n\\n\\n\\n3D Studio \\n\\n   \n",
       "972                                     \\n\\n\\nFBX \\n\\n   \n",
       "973                                                NaN   \n",
       "974       \\n\\n\\nFBX \\n\\n\\n\\n\\nOBJ \\n\\n\\n\\n\\nOther \\n\\n   \n",
       "975                                                NaN   \n",
       "976                       \\n\\n\\nFBX \\n\\n\\n\\n\\nOBJ \\n\\n   \n",
       "977                                 \\n\\n\\nglTF 2.0\\n\\n   \n",
       "978               \\n\\n\\nOBJ 2016\\n\\n\\n\\n\\nFBX 2016\\n\\n   \n",
       "979       \\n\\n\\nOBJ \\n\\n\\n\\n\\nOther \\n\\n\\n\\n\\nSTL \\n\\n   \n",
       "980       \\n\\n\\nSTL \\n\\n\\n\\n\\nOther \\n\\n\\n\\n\\nOBJ \\n\\n   \n",
       "981                 \\n\\n\\nFBX 1.0\\n\\n\\n\\n\\nOBJ 1.0\\n\\n   \n",
       "982  \\n\\n\\nFBX \\n\\n\\n\\n\\n3D Studio \\n\\n\\n\\n\\nOBJ \\n...   \n",
       "983                \\n\\n\\nFBX 2.79b\\n\\n\\n\\n\\nOther \\n\\n   \n",
       "984                                     \\n\\n\\nOBJ \\n\\n   \n",
       "985                                     \\n\\n\\nOBJ \\n\\n   \n",
       "986                                     \\n\\n\\nOBJ \\n\\n   \n",
       "987  \\n\\n\\n3D Studio \\n\\n\\n\\n\\nFBX \\n\\n\\n\\n\\nOther ...   \n",
       "988  \\n\\n\\nOther \\n\\n\\n\\n\\nSTL \\n\\n\\n\\n\\nOBJ \\n\\n\\n...   \n",
       "989                                     \\n\\n\\nOBJ \\n\\n   \n",
       "990                                     \\n\\n\\nSTL \\n\\n   \n",
       "991  \\n\\n\\nOBJ \\n\\n\\n\\n\\nOther TEXTURES\\n\\n\\n\\n\\nFB...   \n",
       "992  \\n\\n\\nFBX \\n\\n\\n\\n\\nOBJ \\n\\n\\n\\n\\nOther TEXTUR...   \n",
       "993       \\n\\n\\nOther \\n\\n\\n\\n\\nOBJ \\n\\n\\n\\n\\nSTL \\n\\n   \n",
       "994                     \\n\\n\\nOBJ \\n\\n\\n\\n\\nOther \\n\\n   \n",
       "995                                                NaN   \n",
       "996  \\n\\n\\n3D Studio \\n\\n\\n\\n\\nOther \\n\\n\\n\\n\\nColl...   \n",
       "997   \\n\\n\\n3D Studio \\n\\n\\n\\n\\nFBX \\n\\n\\n\\n\\nOBJ \\n\\n   \n",
       "998                       \\n\\n\\nFBX \\n\\n\\n\\n\\nOBJ \\n\\n   \n",
       "999                     \\n\\n\\nFBX \\n\\n\\n\\n\\nOther \\n\\n   \n",
       "\n",
       "                                            categories  \\\n",
       "0    [<a href=\"https://www.turbosquid.com/Search/3d...   \n",
       "1    [<a href=\"https://www.turbosquid.com/Search/3d...   \n",
       "2    [<a href=\"https://www.turbosquid.com/Search/3d...   \n",
       "3    [<a href=\"https://www.turbosquid.com/Search/3d...   \n",
       "4    [<a href=\"https://www.turbosquid.com/Search/3d...   \n",
       "5                                                  NaN   \n",
       "6                                                  NaN   \n",
       "7                                                  NaN   \n",
       "8                                                  NaN   \n",
       "9    [<a href=\"https://www.turbosquid.com/Search/3d...   \n",
       "10                                                 NaN   \n",
       "11                                                 NaN   \n",
       "12                                                 NaN   \n",
       "13   [<a href=\"https://www.turbosquid.com/Search/3d...   \n",
       "14   [<a href=\"https://www.turbosquid.com/Search/3d...   \n",
       "15   [<a href=\"https://www.turbosquid.com/Search/3d...   \n",
       "16   [<a href=\"https://www.turbosquid.com/Search/3d...   \n",
       "17   [<a href=\"https://www.turbosquid.com/Search/3d...   \n",
       "18   [<a href=\"https://www.turbosquid.com/Search/3d...   \n",
       "19   [<a href=\"https://www.turbosquid.com/Search/3d...   \n",
       "20   [<a href=\"https://www.turbosquid.com/Search/3d...   \n",
       "21   [<a href=\"https://www.turbosquid.com/Search/3d...   \n",
       "22   [<a href=\"https://www.turbosquid.com/Search/3d...   \n",
       "23   [<a href=\"https://www.turbosquid.com/Search/3d...   \n",
       "24   [<a href=\"https://www.turbosquid.com/Search/3d...   \n",
       "25   [<a href=\"https://www.turbosquid.com/Search/3d...   \n",
       "26   [<a href=\"https://www.turbosquid.com/Search/3d...   \n",
       "27   [<a href=\"https://www.turbosquid.com/Search/3d...   \n",
       "28   [<a href=\"https://www.turbosquid.com/Search/3d...   \n",
       "29   [<a href=\"https://www.turbosquid.com/Search/3d...   \n",
       "..                                                 ...   \n",
       "970  [<a href=\"https://www.turbosquid.com/Search/3d...   \n",
       "971  [<a href=\"https://www.turbosquid.com/Search/3d...   \n",
       "972  [<a href=\"https://www.turbosquid.com/Search/3d...   \n",
       "973  [<a href=\"https://www.turbosquid.com/Search/3d...   \n",
       "974  [<a href=\"https://www.turbosquid.com/Search/3d...   \n",
       "975  [<a href=\"https://www.turbosquid.com/Search/3d...   \n",
       "976  [<a href=\"https://www.turbosquid.com/Search/3d...   \n",
       "977  [<a href=\"https://www.turbosquid.com/Search/3d...   \n",
       "978  [<a href=\"https://www.turbosquid.com/Search/3d...   \n",
       "979  [<a href=\"https://www.turbosquid.com/Search/3d...   \n",
       "980  [<a href=\"https://www.turbosquid.com/Search/3d...   \n",
       "981  [<a href=\"https://www.turbosquid.com/Search/3d...   \n",
       "982  [<a href=\"https://www.turbosquid.com/Search/3d...   \n",
       "983  [<a href=\"https://www.turbosquid.com/Search/3d...   \n",
       "984  [<a href=\"https://www.turbosquid.com/Search/3d...   \n",
       "985  [<a href=\"https://www.turbosquid.com/Search/3d...   \n",
       "986  [<a href=\"https://www.turbosquid.com/Search/3d...   \n",
       "987  [<a href=\"https://www.turbosquid.com/Search/3d...   \n",
       "988  [<a href=\"https://www.turbosquid.com/Search/3d...   \n",
       "989  [<a href=\"https://www.turbosquid.com/Search/3d...   \n",
       "990  [<a href=\"https://www.turbosquid.com/Search/3d...   \n",
       "991  [<a href=\"https://www.turbosquid.com/Search/3d...   \n",
       "992  [<a href=\"https://www.turbosquid.com/Search/3d...   \n",
       "993  [<a href=\"https://www.turbosquid.com/Search/3d...   \n",
       "994  [<a href=\"https://www.turbosquid.com/Search/3d...   \n",
       "995  [<a href=\"https://www.turbosquid.com/Search/3d...   \n",
       "996  [<a href=\"https://www.turbosquid.com/Search/3d...   \n",
       "997  [<a href=\"https://www.turbosquid.com/Search/3d...   \n",
       "998  [<a href=\"https://www.turbosquid.com/Search/3d...   \n",
       "999  [<a href=\"https://www.turbosquid.com/Search/3d...   \n",
       "\n",
       "                                                  tags  \\\n",
       "0    [<a class=\"FPKeywords\" href=\"https://www.turbo...   \n",
       "1    [<a class=\"FPKeywords\" href=\"https://www.turbo...   \n",
       "2    [<a class=\"FPKeywords\" href=\"https://www.turbo...   \n",
       "3    [<a class=\"FPKeywords\" href=\"https://www.turbo...   \n",
       "4    [<a class=\"FPKeywords\" href=\"https://www.turbo...   \n",
       "5    [<a class=\"FPKeywords\" href=\"https://www.turbo...   \n",
       "6    [<a class=\"FPKeywords\" href=\"https://www.turbo...   \n",
       "7    [<a class=\"FPKeywords\" href=\"https://www.turbo...   \n",
       "8    [<a class=\"FPKeywords\" href=\"https://www.turbo...   \n",
       "9    [<a class=\"FPKeywords\" href=\"https://www.turbo...   \n",
       "10   [<a class=\"FPKeywords\" href=\"https://www.turbo...   \n",
       "11   [<a class=\"FPKeywords\" href=\"https://www.turbo...   \n",
       "12   [<a class=\"FPKeywords\" href=\"https://www.turbo...   \n",
       "13   [<a class=\"FPKeywords\" href=\"https://www.turbo...   \n",
       "14   [<a class=\"FPKeywords\" href=\"https://www.turbo...   \n",
       "15   [<a class=\"FPKeywords\" href=\"https://www.turbo...   \n",
       "16   [<a class=\"FPKeywords\" href=\"https://www.turbo...   \n",
       "17   [<a class=\"FPKeywords\" href=\"https://www.turbo...   \n",
       "18   [<a class=\"FPKeywords\" href=\"https://www.turbo...   \n",
       "19   [<a class=\"FPKeywords\" href=\"https://www.turbo...   \n",
       "20   [<a class=\"FPKeywords\" href=\"https://www.turbo...   \n",
       "21   [<a class=\"FPKeywords\" href=\"https://www.turbo...   \n",
       "22   [<a class=\"FPKeywords\" href=\"https://www.turbo...   \n",
       "23   [<a class=\"FPKeywords\" href=\"https://www.turbo...   \n",
       "24   [<a class=\"FPKeywords\" href=\"https://www.turbo...   \n",
       "25   [<a class=\"FPKeywords\" href=\"https://www.turbo...   \n",
       "26   [<a class=\"FPKeywords\" href=\"https://www.turbo...   \n",
       "27   [<a class=\"FPKeywords\" href=\"https://www.turbo...   \n",
       "28   [<a class=\"FPKeywords\" href=\"https://www.turbo...   \n",
       "29   [<a class=\"FPKeywords\" href=\"https://www.turbo...   \n",
       "..                                                 ...   \n",
       "970  [<a class=\"FPKeywords\" href=\"https://www.turbo...   \n",
       "971  [<a class=\"FPKeywords\" href=\"https://www.turbo...   \n",
       "972  [<a class=\"FPKeywords\" href=\"https://www.turbo...   \n",
       "973  [<a class=\"FPKeywords\" href=\"https://www.turbo...   \n",
       "974  [<a class=\"FPKeywords\" href=\"https://www.turbo...   \n",
       "975  [<a class=\"FPKeywords\" href=\"https://www.turbo...   \n",
       "976  [<a class=\"FPKeywords\" href=\"https://www.turbo...   \n",
       "977  [<a class=\"FPKeywords\" href=\"https://www.turbo...   \n",
       "978  [<a class=\"FPKeywords\" href=\"https://www.turbo...   \n",
       "979  [<a class=\"FPKeywords\" href=\"https://www.turbo...   \n",
       "980  [<a class=\"FPKeywords\" href=\"https://www.turbo...   \n",
       "981  [<a class=\"FPKeywords\" href=\"https://www.turbo...   \n",
       "982  [<a class=\"FPKeywords\" href=\"https://www.turbo...   \n",
       "983  [<a class=\"FPKeywords\" href=\"https://www.turbo...   \n",
       "984  [<a class=\"FPKeywords\" href=\"https://www.turbo...   \n",
       "985  [<a class=\"FPKeywords\" href=\"https://www.turbo...   \n",
       "986  [<a class=\"FPKeywords\" href=\"https://www.turbo...   \n",
       "987  [<a class=\"FPKeywords\" href=\"https://www.turbo...   \n",
       "988  [<a class=\"FPKeywords\" href=\"https://www.turbo...   \n",
       "989  [<a class=\"FPKeywords\" href=\"https://www.turbo...   \n",
       "990  [<a class=\"FPKeywords\" href=\"https://www.turbo...   \n",
       "991  [<a class=\"FPKeywords\" href=\"https://www.turbo...   \n",
       "992  [<a class=\"FPKeywords\" href=\"https://www.turbo...   \n",
       "993  [<a class=\"FPKeywords\" href=\"https://www.turbo...   \n",
       "994  [<a class=\"FPKeywords\" href=\"https://www.turbo...   \n",
       "995  [<a class=\"FPKeywords\" href=\"https://www.turbo...   \n",
       "996  [<a class=\"FPKeywords\" href=\"https://www.turbo...   \n",
       "997  [<a class=\"FPKeywords\" href=\"https://www.turbo...   \n",
       "998  [<a class=\"FPKeywords\" href=\"https://www.turbo...   \n",
       "999  [<a class=\"FPKeywords\" href=\"https://www.turbo...   \n",
       "\n",
       "                                           description  \n",
       "0    I was starting work on a new game in unity and...  \n",
       "1    counter and bar stools Are the same specificat...  \n",
       "2                           Small low poly shop cabin.  \n",
       "3    Game ready model, low poly can used as a game ...  \n",
       "4    3D model for the atom. The whole project was m...  \n",
       "5                                          Vintage fan  \n",
       "6    This model was created for an art challenge an...  \n",
       "7    Indoors test scene made with Blender 2.8.It co...  \n",
       "8    This is a simple architecture test scene made ...  \n",
       "9    - Ceramic coffee cup with plate -This model co...  \n",
       "10          Just a sculpting/texturing practice I did.  \n",
       "11   free 3d obj and Maya please give me. feedback,...  \n",
       "12   This is a simple architecture test scene made ...  \n",
       "13   Detailed High definition model Xiaomi Redmi 7A...  \n",
       "14                                                 NaN  \n",
       "15   **office chair** with vray material ready to p...  \n",
       "16   * This Urn is a high quality polygonal model w...  \n",
       "17   OBJ, FBX, DAE files of an unwrapped 3D object ...  \n",
       "18   Metal Containers3D Model Ready for Games. PBR ...  \n",
       "19   Saved as 3ds max 2015 version file.As you work...  \n",
       "20                #sink #Kitchen #tap #faucet #bibcock  \n",
       "21   This is a simple house model. Except for the c...  \n",
       "22   * Saved as 3ds max 2015 version file.Nowadays,...  \n",
       "23   A CPU fan.Low poly and mid poly includedBlend ...  \n",
       "24                             Low poly fuel canister.  \n",
       "25                Low poly road obstacle with texture.  \n",
       "26                             Models:ChairFormats:max  \n",
       "27   Chemical bottle with generic hazards label. Us...  \n",
       "28   A simple plate and cup set decorated with gold...  \n",
       "29   this a japanese future bridge. because of my p...  \n",
       "..                                                 ...  \n",
       "970  R710 Indoor Access Point, The model comes with...  \n",
       "971                 Model of a girl, hope you like it.  \n",
       "972  MERRY CHRISTMAS UNITY DEVELOPERS!!!!!!!!!this ...  \n",
       "973  red top for woman character, comment me so i u...  \n",
       "974  VR Goggles Headset Simple 3d model. Virtual Re...  \n",
       "975  Fantasy GunReady to render.Originally created ...  \n",
       "976  This is my first project in blender. I'm gonna...  \n",
       "977           Simple low poly hammer with PBR material  \n",
       "978  Modeled with Autodesk Maya 2016 using polygons...  \n",
       "979  Dear friends,You may need an earring for your ...  \n",
       "980  Dear friends,Please feel free to download this...  \n",
       "981         A model make by PandaGraphics of Free Use.  \n",
       "982  GAME READY SPEAR & FLAGS HEREthis is unity pac...  \n",
       "983  low poly book model inside:texturesnormal mapu...  \n",
       "984  Rock_9...........................10191 polygon...  \n",
       "985  Rock_9...........................10191 polygon...  \n",
       "986  Rock_9...........................10191 polygon...  \n",
       "987  tree Red pine Low Poly Modelingmax2017Export:m...  \n",
       "988  This is a high poly rendered in VRay.Stack not...  \n",
       "989      Lowpoly Sacrifice Altar with few bloodstains.  \n",
       "990  This is my only free item . It is meant to enc...  \n",
       "991  Unwrapped low-poly 3d scanned model of Paving ...  \n",
       "992  Unwrapped low-poly 3d scanned model of Bread R...  \n",
       "993  Triangulated Fool Cap shell surface.This was o...  \n",
       "994  A simple steel sword with brass guard and leat...  \n",
       "995                                     All-time desk.  \n",
       "996  This model is made in blender, you can try to ...  \n",
       "997  ABOUT MODEL:-* This is a Realistic 3d model wi...  \n",
       "998  This is a rigged low poly bow, it has no anima...  \n",
       "999  Eugene Harold Krabs (born November 30, 1942), ...  \n",
       "\n",
       "[1000 rows x 10 columns]"
      ]
     },
     "execution_count": 12,
     "metadata": {},
     "output_type": "execute_result"
    }
   ],
   "source": [
    "dataset_scraping = pd.read_csv('dataset_scraping.csv')\n",
    "dataset_scraping"
   ]
  },
  {
   "cell_type": "markdown",
   "metadata": {},
   "source": [
    "## Limpieza de datos."
   ]
  },
  {
   "cell_type": "markdown",
   "metadata": {},
   "source": [
    "Es necesario aplicar una limpieza a los datos."
   ]
  },
  {
   "cell_type": "markdown",
   "metadata": {},
   "source": [
    "Revisamos la cantida de valores vacios"
   ]
  },
  {
   "cell_type": "code",
   "execution_count": null,
   "metadata": {},
   "outputs": [],
   "source": [
    "missing_values_scraping = dataset_scraping == ''\n",
    "missing_values_scraping = missing_values_scraping.sum()\n",
    "missing_values_scraping"
   ]
  },
  {
   "cell_type": "markdown",
   "metadata": {},
   "source": [
    "## Columna name_model"
   ]
  },
  {
   "cell_type": "markdown",
   "metadata": {},
   "source": [
    "En este caso podemos darle un formato más limpio a los nombres (capitalize) y eliminar palabras que son innecesarias."
   ]
  },
  {
   "cell_type": "code",
   "execution_count": null,
   "metadata": {},
   "outputs": [],
   "source": [
    "nombres = dataset_scraping['name_model']\n",
    "nombres = [nombres.loc[[i]].values[0][0] for i in range(len(nombres))]"
   ]
  },
  {
   "cell_type": "markdown",
   "metadata": {},
   "source": [
    "With the name we now that all are 3D models, so we remove this word for all the names."
   ]
  },
  {
   "cell_type": "code",
   "execution_count": null,
   "metadata": {},
   "outputs": [],
   "source": [
    "nombres = [nombre.replace('3D ','').replace('model ','').capitalize() for nombre in nombres]"
   ]
  },
  {
   "cell_type": "code",
   "execution_count": null,
   "metadata": {},
   "outputs": [],
   "source": [
    "dataset_scraping['name_model'] = nombres\n",
    "dataset_scraping"
   ]
  },
  {
   "cell_type": "markdown",
   "metadata": {},
   "source": [
    "## Columna price."
   ]
  },
  {
   "cell_type": "markdown",
   "metadata": {},
   "source": [
    "Primero nos damos una idea de la variedad de precios en esta columna."
   ]
  },
  {
   "cell_type": "code",
   "execution_count": null,
   "metadata": {},
   "outputs": [],
   "source": [
    "prices = dataset_scraping['price']\n",
    "prices = [prices.loc[[i]].values[0][0] for i in range(len(prices))]"
   ]
  },
  {
   "cell_type": "markdown",
   "metadata": {},
   "source": [
    "Parece que dentro de los primeros 1000 modelos todos son gratuitos, por lo que solo limpiamos un poco el string."
   ]
  },
  {
   "cell_type": "code",
   "execution_count": null,
   "metadata": {},
   "outputs": [],
   "source": [
    "dataset_scraping['price'] = [re.sub(r'\\n','',price) for price in prices]\n",
    "dataset_scraping"
   ]
  },
  {
   "cell_type": "markdown",
   "metadata": {},
   "source": [
    "## Columna formats_available"
   ]
  },
  {
   "cell_type": "markdown",
   "metadata": {},
   "source": [
    "Para esta columna necesitamos un formao similar a la columna price, solo que generamos una lista de formatos."
   ]
  },
  {
   "cell_type": "code",
   "execution_count": null,
   "metadata": {},
   "outputs": [],
   "source": [
    "formatos = dataset_scraping['formats_available']\n",
    "formatos = [formatos.loc[[i]].values[0][0] for i in range(len(formatos))]"
   ]
  },
  {
   "cell_type": "code",
   "execution_count": null,
   "metadata": {},
   "outputs": [],
   "source": [
    "dataset_scraping['formats_available'] = [re.findall(r'\\b\\w+\\s(?:\\w+)?',formato) for formato in formatos]\n",
    "dataset_scraping"
   ]
  },
  {
   "cell_type": "markdown",
   "metadata": {},
   "source": [
    "## Columna categories"
   ]
  },
  {
   "cell_type": "code",
   "execution_count": null,
   "metadata": {},
   "outputs": [],
   "source": [
    "categorias = dataset_scraping['categories']\n",
    "categorias = [categorias.loc[[i]].values[0][0] for i in range(len(categorias))]"
   ]
  },
  {
   "cell_type": "markdown",
   "metadata": {},
   "source": [
    "Para esta columna preferí dejar el conenido crudo y procesarlo, obteniendo una columna con los links a las categorias presentes en el modelo y otra con los nombres de las categorías."
   ]
  },
  {
   "cell_type": "code",
   "execution_count": null,
   "metadata": {},
   "outputs": [],
   "source": [
    "# Extraer los links de las categorias.\n",
    "lista_links = []\n",
    "lista_categorias = []\n",
    "for categoria in categorias:\n",
    "    links = [elemento['href'] for elemento in categoria]\n",
    "    list_categories = [elemento.text for elemento in categoria]\n",
    "    lista_categorias.append(list_categories)\n",
    "    lista_links.append(links)"
   ]
  },
  {
   "cell_type": "markdown",
   "metadata": {},
   "source": [
    "Actualizamos las columnas desechando y agregando columnas."
   ]
  },
  {
   "cell_type": "code",
   "execution_count": null,
   "metadata": {},
   "outputs": [],
   "source": [
    "dataset_scraping = dataset_scraping.drop('categories',axis=1)\n",
    "dataset_scraping['links_categories'] = lista_links\n",
    "dataset_scraping['list_categories'] = lista_categorias\n",
    "dataset_scraping"
   ]
  },
  {
   "cell_type": "markdown",
   "metadata": {},
   "source": [
    "## Columna tags"
   ]
  },
  {
   "cell_type": "code",
   "execution_count": null,
   "metadata": {},
   "outputs": [],
   "source": [
    "tags = dataset_scraping['tags']\n",
    "tags = [tags.loc[[i]].values[0][0] for i in range(len(tags))]"
   ]
  },
  {
   "cell_type": "code",
   "execution_count": null,
   "metadata": {},
   "outputs": [],
   "source": [
    "# Extraer los links de las categorias.\n",
    "lista_links_tags = []\n",
    "lista_tags_c = []\n",
    "for tag in tags:\n",
    "    links_tags = [elemento['href'] for elemento in tag]\n",
    "    lista_tags = [elemento.text for elemento in tag]\n",
    "    lista_tags_c.append(lista_tags)\n",
    "    lista_links_tags.append(links_tags)"
   ]
  },
  {
   "cell_type": "code",
   "execution_count": null,
   "metadata": {},
   "outputs": [],
   "source": [
    "dataset_scraping = dataset_scraping.drop('tags',axis=1)\n",
    "dataset_scraping['links_tags'] = lista_links_tags\n",
    "dataset_scraping['list_tags'] = lista_tags_c\n",
    "dataset_scraping"
   ]
  },
  {
   "cell_type": "markdown",
   "metadata": {},
   "source": [
    "Finalmente podemos hacer un reordenamiento de las columnas."
   ]
  },
  {
   "cell_type": "code",
   "execution_count": null,
   "metadata": {},
   "outputs": [],
   "source": [
    "orden_columnas = ['name_model', 'description','owner','price','license','published_date',\n",
    "                  'formats_available','list_categories','links_categories','list_tags','links_tags']"
   ]
  },
  {
   "cell_type": "code",
   "execution_count": null,
   "metadata": {},
   "outputs": [],
   "source": [
    "dataset_scraping = dataset_scraping[orden_columnas]\n",
    "dataset_scraping"
   ]
  },
  {
   "cell_type": "markdown",
   "metadata": {},
   "source": [
    "Ahora sustituimos los valores nulos y listas vacias por la cadena \"Unknown\""
   ]
  },
  {
   "cell_type": "code",
   "execution_count": null,
   "metadata": {},
   "outputs": [],
   "source": [
    "dataset_scraping.fillna('No disponible')\n",
    "change_to_unknown = lambda x: 'Unknown' if x == [] else x\n",
    "for i in dataset_scraping.columns:\n",
    "    dataset_scraping[i] = dataset_scraping[i].apply(change_to_unknown)\n",
    "dataset_scraping"
   ]
  },
  {
   "cell_type": "code",
   "execution_count": null,
   "metadata": {},
   "outputs": [],
   "source": [
    "dataset_scraping"
   ]
  },
  {
   "cell_type": "code",
   "execution_count": null,
   "metadata": {},
   "outputs": [],
   "source": [
    "#Guardamos el dataset\n",
    "dataset_scraping.to_csv('datase_scraping_clean.csv',index=False)"
   ]
  },
  {
   "cell_type": "markdown",
   "metadata": {},
   "source": [
    "## Análisis."
   ]
  },
  {
   "cell_type": "markdown",
   "metadata": {},
   "source": [
    "Ahora podemos obtener las categorias o etiquetas más frecuentes."
   ]
  },
  {
   "cell_type": "code",
   "execution_count": null,
   "metadata": {},
   "outputs": [],
   "source": [
    "lista_categorias_total = [categoria for lista in lista_categorias for categoria in lista]\n",
    "set_categorias = set(lista_categorias_total)\n",
    "dict_freq_categories = {k:lista_categorias_total.count(k) for k in set_categorias}\n",
    "freq_categories_order = sorted(dict_freq_categories.items(), key=operator.itemgetter(1))\n",
    "print('Categorias más frecuentes en orden ascendente:')\n",
    "print(freq_categories_order[-10:])"
   ]
  },
  {
   "cell_type": "code",
   "execution_count": null,
   "metadata": {},
   "outputs": [],
   "source": [
    "lista_etiquetas_total = [etiqueta for lista in lista_tags_c for etiqueta in lista]\n",
    "set_etiquetas = set(lista_etiquetas_total)\n",
    "dict_freq_tags = {k:lista_etiquetas_total.count(k) for k in set_etiquetas}\n",
    "freq_tags_order = sorted(dict_freq_tags.items(), key=operator.itemgetter(1))\n",
    "print('Categorias más frecuentes en orden ascendente:')\n",
    "print(freq_tags_order[-10:])"
   ]
  },
  {
   "cell_type": "markdown",
   "metadata": {},
   "source": [
    "Buscar los \"dueños\" más frecuentes."
   ]
  },
  {
   "cell_type": "code",
   "execution_count": null,
   "metadata": {},
   "outputs": [],
   "source": [
    "dueños = dataset_scraping['owner']\n",
    "dueños = [dueños.loc[[i]].values[0][0] for i in range(len(dueños))]\n",
    "len(set(dueños))"
   ]
  },
  {
   "cell_type": "code",
   "execution_count": null,
   "metadata": {},
   "outputs": [],
   "source": [
    "dueños_dict = {k:dueños.count(k) for k in set(dueños)}\n",
    "freq_dueños_order = sorted(dueños_dict.items(), key=operator.itemgetter(1))\n",
    "print('Los dueños con más modelos en orden ascendente:')\n",
    "print(freq_dueños_order[-10:])"
   ]
  },
  {
   "cell_type": "code",
   "execution_count": null,
   "metadata": {},
   "outputs": [],
   "source": []
  }
 ],
 "metadata": {
  "kernelspec": {
   "display_name": "Python 3",
   "language": "python",
   "name": "python3"
  },
  "language_info": {
   "codemirror_mode": {
    "name": "ipython",
    "version": 3
   },
   "file_extension": ".py",
   "mimetype": "text/x-python",
   "name": "python",
   "nbconvert_exporter": "python",
   "pygments_lexer": "ipython3",
   "version": "3.7.3"
  }
 },
 "nbformat": 4,
 "nbformat_minor": 2
}
